{
 "cells": [
  {
   "cell_type": "markdown",
   "metadata": {
    "editable": true
   },
   "source": [
    "# ETL Processes\n",
    "Use this notebook to develop the ETL process for each of your tables before completing the `etl.py` file to load the whole datasets."
   ]
  },
  {
   "cell_type": "code",
   "execution_count": 1,
   "metadata": {
    "editable": true
   },
   "outputs": [],
   "source": [
    "import os\n",
    "import glob\n",
    "import psycopg2\n",
    "import pandas as pd\n",
    "from sql_queries import *"
   ]
  },
  {
   "cell_type": "code",
   "execution_count": 2,
   "metadata": {
    "editable": true
   },
   "outputs": [],
   "source": [
    "conn = psycopg2.connect(\"host=127.0.0.1 dbname=sparkifydb user=student password=student\")\n",
    "cur = conn.cursor()"
   ]
  },
  {
   "cell_type": "code",
   "execution_count": 3,
   "metadata": {
    "editable": true
   },
   "outputs": [],
   "source": [
    "def get_files(filepath):\n",
    "    all_files = []\n",
    "    for root, dirs, files in os.walk(filepath):\n",
    "        files = glob.glob(os.path.join(root,'*.json'))\n",
    "        for f in files :\n",
    "            all_files.append(os.path.abspath(f))\n",
    "    return all_files"
   ]
  },
  {
   "cell_type": "markdown",
   "metadata": {
    "editable": true
   },
   "source": [
    "# Process `song_data`\n",
    "In this first part, you'll perform ETL on the first dataset, `song_data`, to create the `songs` and `artists` dimensional tables.\n",
    "\n",
    "Let's perform ETL on a single song file and load a single record into each table to start.\n",
    "- Use the `get_files` function provided above to get a list of all song JSON files in `data/song_data`\n",
    "- Select the first song in this list\n",
    "- Read the song file and view the data"
   ]
  },
  {
   "cell_type": "code",
   "execution_count": 4,
   "metadata": {
    "editable": true
   },
   "outputs": [],
   "source": [
    "song_files = get_files(\"./data/song_data\")"
   ]
  },
  {
   "cell_type": "code",
   "execution_count": 5,
   "metadata": {
    "editable": true
   },
   "outputs": [],
   "source": [
    "filepath = song_files[0]"
   ]
  },
  {
   "cell_type": "code",
   "execution_count": 6,
   "metadata": {
    "editable": true
   },
   "outputs": [
    {
     "data": {
      "text/html": [
       "<div>\n",
       "<style scoped>\n",
       "    .dataframe tbody tr th:only-of-type {\n",
       "        vertical-align: middle;\n",
       "    }\n",
       "\n",
       "    .dataframe tbody tr th {\n",
       "        vertical-align: top;\n",
       "    }\n",
       "\n",
       "    .dataframe thead th {\n",
       "        text-align: right;\n",
       "    }\n",
       "</style>\n",
       "<table border=\"1\" class=\"dataframe\">\n",
       "  <thead>\n",
       "    <tr style=\"text-align: right;\">\n",
       "      <th></th>\n",
       "      <th>artist_id</th>\n",
       "      <th>artist_latitude</th>\n",
       "      <th>artist_location</th>\n",
       "      <th>artist_longitude</th>\n",
       "      <th>artist_name</th>\n",
       "      <th>duration</th>\n",
       "      <th>num_songs</th>\n",
       "      <th>song_id</th>\n",
       "      <th>title</th>\n",
       "      <th>year</th>\n",
       "    </tr>\n",
       "  </thead>\n",
       "  <tbody>\n",
       "    <tr>\n",
       "      <th>0</th>\n",
       "      <td>ARD7TVE1187B99BFB1</td>\n",
       "      <td>NaN</td>\n",
       "      <td>California - LA</td>\n",
       "      <td>NaN</td>\n",
       "      <td>Casual</td>\n",
       "      <td>218.93179</td>\n",
       "      <td>1</td>\n",
       "      <td>SOMZWCG12A8C13C480</td>\n",
       "      <td>I Didn't Mean To</td>\n",
       "      <td>0</td>\n",
       "    </tr>\n",
       "  </tbody>\n",
       "</table>\n",
       "</div>"
      ],
      "text/plain": [
       "            artist_id  artist_latitude  artist_location  artist_longitude  \\\n",
       "0  ARD7TVE1187B99BFB1              NaN  California - LA               NaN   \n",
       "\n",
       "  artist_name   duration  num_songs             song_id             title  \\\n",
       "0      Casual  218.93179          1  SOMZWCG12A8C13C480  I Didn't Mean To   \n",
       "\n",
       "   year  \n",
       "0     0  "
      ]
     },
     "execution_count": 6,
     "metadata": {},
     "output_type": "execute_result"
    }
   ],
   "source": [
    "df = pd.DataFrame(pd.read_json(filepath, lines=True, orient='columns'))\n",
    "df.head()"
   ]
  },
  {
   "cell_type": "markdown",
   "metadata": {
    "editable": true
   },
   "source": [
    "## #1: `songs` Table\n",
    "#### Extract Data for Songs Table\n",
    "- Select columns for song ID, title, artist ID, year, and duration\n",
    "- Use `df.values` to select just the values from the dataframe\n",
    "- Index to select the first (only) record in the dataframe\n",
    "- Convert the array to a list and set it to `song_data`"
   ]
  },
  {
   "cell_type": "code",
   "execution_count": 7,
   "metadata": {
    "editable": true
   },
   "outputs": [
    {
     "data": {
      "text/plain": [
       "('SOMZWCG12A8C13C480', \"I Didn't Mean To\", 'ARD7TVE1187B99BFB1', 0, 218.93179)"
      ]
     },
     "execution_count": 7,
     "metadata": {},
     "output_type": "execute_result"
    }
   ],
   "source": [
    "song_data = (df.values[0][7], df.values[0][8], df.values[0][0], df.values[0][9], df.values[0][5])\n",
    "song_data"
   ]
  },
  {
   "cell_type": "markdown",
   "metadata": {
    "editable": true
   },
   "source": [
    "#### Insert Record into Song Table\n",
    "Implement the `song_table_insert` query in `sql_queries.py` and run the cell below to insert a record for this song into the `songs` table. Remember to run `create_tables.py` before running the cell below to ensure you've created/resetted the `songs` table in the sparkify database."
   ]
  },
  {
   "cell_type": "code",
   "execution_count": 8,
   "metadata": {
    "editable": true
   },
   "outputs": [],
   "source": [
    "cur.execute(song_table_insert, song_data)\n",
    "conn.commit()"
   ]
  },
  {
   "cell_type": "markdown",
   "metadata": {
    "editable": true
   },
   "source": [
    "Run `test.ipynb` to see if you've successfully added a record to this table."
   ]
  },
  {
   "cell_type": "markdown",
   "metadata": {
    "editable": true
   },
   "source": [
    "## #2: `artists` Table\n",
    "#### Extract Data for Artists Table\n",
    "- Select columns for artist ID, name, location, latitude, and longitude\n",
    "- Use `df.values` to select just the values from the dataframe\n",
    "- Index to select the first (only) record in the dataframe\n",
    "- Convert the array to a list and set it to `artist_data`"
   ]
  },
  {
   "cell_type": "code",
   "execution_count": 9,
   "metadata": {
    "editable": true
   },
   "outputs": [
    {
     "data": {
      "text/plain": [
       "('ARD7TVE1187B99BFB1', 'Casual', 'California - LA', nan, nan)"
      ]
     },
     "execution_count": 9,
     "metadata": {},
     "output_type": "execute_result"
    }
   ],
   "source": [
    "artist_data = (df.values[0][0], df.values[0][4], df.values[0][2], df.values[0][1], df.values[0][3])\n",
    "artist_data"
   ]
  },
  {
   "cell_type": "markdown",
   "metadata": {
    "editable": true
   },
   "source": [
    "#### Insert Record into Artist Table\n",
    "Implement the `artist_table_insert` query in `sql_queries.py` and run the cell below to insert a record for this song's artist into the `artists` table. Remember to run `create_tables.py` before running the cell below to ensure you've created/resetted the `artists` table in the sparkify database."
   ]
  },
  {
   "cell_type": "code",
   "execution_count": 10,
   "metadata": {
    "editable": true
   },
   "outputs": [],
   "source": [
    "cur.execute(artist_table_insert, artist_data)\n",
    "conn.commit()"
   ]
  },
  {
   "cell_type": "markdown",
   "metadata": {
    "editable": true
   },
   "source": [
    "Run `test.ipynb` to see if you've successfully added a record to this table."
   ]
  },
  {
   "cell_type": "markdown",
   "metadata": {
    "editable": true
   },
   "source": [
    "# Process `log_data`\n",
    "In this part, you'll perform ETL on the second dataset, `log_data`, to create the `time` and `users` dimensional tables, as well as the `songplays` fact table.\n",
    "\n",
    "Let's perform ETL on a single log file and load a single record into each table.\n",
    "- Use the `get_files` function provided above to get a list of all log JSON files in `data/log_data`\n",
    "- Select the first log file in this list\n",
    "- Read the log file and view the data"
   ]
  },
  {
   "cell_type": "code",
   "execution_count": 11,
   "metadata": {
    "editable": true
   },
   "outputs": [],
   "source": [
    "log_files = get_files(\"./data/log_data\")"
   ]
  },
  {
   "cell_type": "code",
   "execution_count": 12,
   "metadata": {
    "editable": true
   },
   "outputs": [],
   "source": [
    "filepath = log_files[0]"
   ]
  },
  {
   "cell_type": "code",
   "execution_count": 13,
   "metadata": {
    "editable": true
   },
   "outputs": [
    {
     "data": {
      "text/html": [
       "<div>\n",
       "<style scoped>\n",
       "    .dataframe tbody tr th:only-of-type {\n",
       "        vertical-align: middle;\n",
       "    }\n",
       "\n",
       "    .dataframe tbody tr th {\n",
       "        vertical-align: top;\n",
       "    }\n",
       "\n",
       "    .dataframe thead th {\n",
       "        text-align: right;\n",
       "    }\n",
       "</style>\n",
       "<table border=\"1\" class=\"dataframe\">\n",
       "  <thead>\n",
       "    <tr style=\"text-align: right;\">\n",
       "      <th></th>\n",
       "      <th>artist</th>\n",
       "      <th>auth</th>\n",
       "      <th>firstName</th>\n",
       "      <th>gender</th>\n",
       "      <th>itemInSession</th>\n",
       "      <th>lastName</th>\n",
       "      <th>length</th>\n",
       "      <th>level</th>\n",
       "      <th>location</th>\n",
       "      <th>method</th>\n",
       "      <th>page</th>\n",
       "      <th>registration</th>\n",
       "      <th>sessionId</th>\n",
       "      <th>song</th>\n",
       "      <th>status</th>\n",
       "      <th>ts</th>\n",
       "      <th>userAgent</th>\n",
       "      <th>userId</th>\n",
       "    </tr>\n",
       "  </thead>\n",
       "  <tbody>\n",
       "    <tr>\n",
       "      <th>0</th>\n",
       "      <td>Stephen Lynch</td>\n",
       "      <td>Logged In</td>\n",
       "      <td>Jayden</td>\n",
       "      <td>M</td>\n",
       "      <td>0</td>\n",
       "      <td>Bell</td>\n",
       "      <td>182.85669</td>\n",
       "      <td>free</td>\n",
       "      <td>Dallas-Fort Worth-Arlington, TX</td>\n",
       "      <td>PUT</td>\n",
       "      <td>NextSong</td>\n",
       "      <td>1.540992e+12</td>\n",
       "      <td>829</td>\n",
       "      <td>Jim Henson's Dead</td>\n",
       "      <td>200</td>\n",
       "      <td>1543537327796</td>\n",
       "      <td>Mozilla/5.0 (compatible; MSIE 10.0; Windows NT...</td>\n",
       "      <td>91</td>\n",
       "    </tr>\n",
       "    <tr>\n",
       "      <th>1</th>\n",
       "      <td>Manowar</td>\n",
       "      <td>Logged In</td>\n",
       "      <td>Jacob</td>\n",
       "      <td>M</td>\n",
       "      <td>0</td>\n",
       "      <td>Klein</td>\n",
       "      <td>247.56200</td>\n",
       "      <td>paid</td>\n",
       "      <td>Tampa-St. Petersburg-Clearwater, FL</td>\n",
       "      <td>PUT</td>\n",
       "      <td>NextSong</td>\n",
       "      <td>1.540558e+12</td>\n",
       "      <td>1049</td>\n",
       "      <td>Shell Shock</td>\n",
       "      <td>200</td>\n",
       "      <td>1543540121796</td>\n",
       "      <td>\"Mozilla/5.0 (Macintosh; Intel Mac OS X 10_9_4...</td>\n",
       "      <td>73</td>\n",
       "    </tr>\n",
       "    <tr>\n",
       "      <th>2</th>\n",
       "      <td>Morcheeba</td>\n",
       "      <td>Logged In</td>\n",
       "      <td>Jacob</td>\n",
       "      <td>M</td>\n",
       "      <td>1</td>\n",
       "      <td>Klein</td>\n",
       "      <td>257.41016</td>\n",
       "      <td>paid</td>\n",
       "      <td>Tampa-St. Petersburg-Clearwater, FL</td>\n",
       "      <td>PUT</td>\n",
       "      <td>NextSong</td>\n",
       "      <td>1.540558e+12</td>\n",
       "      <td>1049</td>\n",
       "      <td>Women Lose Weight (Feat: Slick Rick)</td>\n",
       "      <td>200</td>\n",
       "      <td>1543540368796</td>\n",
       "      <td>\"Mozilla/5.0 (Macintosh; Intel Mac OS X 10_9_4...</td>\n",
       "      <td>73</td>\n",
       "    </tr>\n",
       "    <tr>\n",
       "      <th>3</th>\n",
       "      <td>Maroon 5</td>\n",
       "      <td>Logged In</td>\n",
       "      <td>Jacob</td>\n",
       "      <td>M</td>\n",
       "      <td>2</td>\n",
       "      <td>Klein</td>\n",
       "      <td>231.23546</td>\n",
       "      <td>paid</td>\n",
       "      <td>Tampa-St. Petersburg-Clearwater, FL</td>\n",
       "      <td>PUT</td>\n",
       "      <td>NextSong</td>\n",
       "      <td>1.540558e+12</td>\n",
       "      <td>1049</td>\n",
       "      <td>Won't Go Home Without You</td>\n",
       "      <td>200</td>\n",
       "      <td>1543540625796</td>\n",
       "      <td>\"Mozilla/5.0 (Macintosh; Intel Mac OS X 10_9_4...</td>\n",
       "      <td>73</td>\n",
       "    </tr>\n",
       "    <tr>\n",
       "      <th>4</th>\n",
       "      <td>Train</td>\n",
       "      <td>Logged In</td>\n",
       "      <td>Jacob</td>\n",
       "      <td>M</td>\n",
       "      <td>3</td>\n",
       "      <td>Klein</td>\n",
       "      <td>216.76363</td>\n",
       "      <td>paid</td>\n",
       "      <td>Tampa-St. Petersburg-Clearwater, FL</td>\n",
       "      <td>PUT</td>\n",
       "      <td>NextSong</td>\n",
       "      <td>1.540558e+12</td>\n",
       "      <td>1049</td>\n",
       "      <td>Hey_ Soul Sister</td>\n",
       "      <td>200</td>\n",
       "      <td>1543540856796</td>\n",
       "      <td>\"Mozilla/5.0 (Macintosh; Intel Mac OS X 10_9_4...</td>\n",
       "      <td>73</td>\n",
       "    </tr>\n",
       "  </tbody>\n",
       "</table>\n",
       "</div>"
      ],
      "text/plain": [
       "          artist       auth firstName gender  itemInSession lastName  \\\n",
       "0  Stephen Lynch  Logged In    Jayden      M              0     Bell   \n",
       "1        Manowar  Logged In     Jacob      M              0    Klein   \n",
       "2      Morcheeba  Logged In     Jacob      M              1    Klein   \n",
       "3       Maroon 5  Logged In     Jacob      M              2    Klein   \n",
       "4          Train  Logged In     Jacob      M              3    Klein   \n",
       "\n",
       "      length level                             location method      page  \\\n",
       "0  182.85669  free      Dallas-Fort Worth-Arlington, TX    PUT  NextSong   \n",
       "1  247.56200  paid  Tampa-St. Petersburg-Clearwater, FL    PUT  NextSong   \n",
       "2  257.41016  paid  Tampa-St. Petersburg-Clearwater, FL    PUT  NextSong   \n",
       "3  231.23546  paid  Tampa-St. Petersburg-Clearwater, FL    PUT  NextSong   \n",
       "4  216.76363  paid  Tampa-St. Petersburg-Clearwater, FL    PUT  NextSong   \n",
       "\n",
       "   registration  sessionId                                  song  status  \\\n",
       "0  1.540992e+12        829                     Jim Henson's Dead     200   \n",
       "1  1.540558e+12       1049                           Shell Shock     200   \n",
       "2  1.540558e+12       1049  Women Lose Weight (Feat: Slick Rick)     200   \n",
       "3  1.540558e+12       1049             Won't Go Home Without You     200   \n",
       "4  1.540558e+12       1049                      Hey_ Soul Sister     200   \n",
       "\n",
       "              ts                                          userAgent userId  \n",
       "0  1543537327796  Mozilla/5.0 (compatible; MSIE 10.0; Windows NT...     91  \n",
       "1  1543540121796  \"Mozilla/5.0 (Macintosh; Intel Mac OS X 10_9_4...     73  \n",
       "2  1543540368796  \"Mozilla/5.0 (Macintosh; Intel Mac OS X 10_9_4...     73  \n",
       "3  1543540625796  \"Mozilla/5.0 (Macintosh; Intel Mac OS X 10_9_4...     73  \n",
       "4  1543540856796  \"Mozilla/5.0 (Macintosh; Intel Mac OS X 10_9_4...     73  "
      ]
     },
     "execution_count": 13,
     "metadata": {},
     "output_type": "execute_result"
    }
   ],
   "source": [
    "df = pd.DataFrame(pd.read_json(filepath, lines = True, orient = 'columns'))\n",
    "df.head()"
   ]
  },
  {
   "cell_type": "markdown",
   "metadata": {
    "editable": true
   },
   "source": [
    "## #3: `time` Table\n",
    "#### Extract Data for Time Table\n",
    "- Filter records by `NextSong` action\n",
    "- Convert the `ts` timestamp column to datetime\n",
    "  - Hint: the current timestamp is in milliseconds\n",
    "- Extract the timestamp, hour, day, week of year, month, year, and weekday from the `ts` column and set `time_data` to a list containing these values in order\n",
    "  - Hint: use pandas' [`dt` attribute](https://pandas.pydata.org/pandas-docs/stable/reference/api/pandas.Series.dt.html) to access easily datetimelike properties.\n",
    "- Specify labels for these columns and set to `column_labels`\n",
    "- Create a dataframe, `time_df,` containing the time data for this file by combining `column_labels` and `time_data` into a dictionary and converting this into a dataframe"
   ]
  },
  {
   "cell_type": "code",
   "execution_count": 14,
   "metadata": {
    "editable": true
   },
   "outputs": [
    {
     "data": {
      "text/html": [
       "<div>\n",
       "<style scoped>\n",
       "    .dataframe tbody tr th:only-of-type {\n",
       "        vertical-align: middle;\n",
       "    }\n",
       "\n",
       "    .dataframe tbody tr th {\n",
       "        vertical-align: top;\n",
       "    }\n",
       "\n",
       "    .dataframe thead th {\n",
       "        text-align: right;\n",
       "    }\n",
       "</style>\n",
       "<table border=\"1\" class=\"dataframe\">\n",
       "  <thead>\n",
       "    <tr style=\"text-align: right;\">\n",
       "      <th></th>\n",
       "      <th>artist</th>\n",
       "      <th>auth</th>\n",
       "      <th>firstName</th>\n",
       "      <th>gender</th>\n",
       "      <th>itemInSession</th>\n",
       "      <th>lastName</th>\n",
       "      <th>length</th>\n",
       "      <th>level</th>\n",
       "      <th>location</th>\n",
       "      <th>method</th>\n",
       "      <th>page</th>\n",
       "      <th>registration</th>\n",
       "      <th>sessionId</th>\n",
       "      <th>song</th>\n",
       "      <th>status</th>\n",
       "      <th>ts</th>\n",
       "      <th>userAgent</th>\n",
       "      <th>userId</th>\n",
       "    </tr>\n",
       "  </thead>\n",
       "  <tbody>\n",
       "    <tr>\n",
       "      <th>0</th>\n",
       "      <td>Stephen Lynch</td>\n",
       "      <td>Logged In</td>\n",
       "      <td>Jayden</td>\n",
       "      <td>M</td>\n",
       "      <td>0</td>\n",
       "      <td>Bell</td>\n",
       "      <td>182.85669</td>\n",
       "      <td>free</td>\n",
       "      <td>Dallas-Fort Worth-Arlington, TX</td>\n",
       "      <td>PUT</td>\n",
       "      <td>NextSong</td>\n",
       "      <td>1.540992e+12</td>\n",
       "      <td>829</td>\n",
       "      <td>Jim Henson's Dead</td>\n",
       "      <td>200</td>\n",
       "      <td>1543537327796</td>\n",
       "      <td>Mozilla/5.0 (compatible; MSIE 10.0; Windows NT...</td>\n",
       "      <td>91</td>\n",
       "    </tr>\n",
       "    <tr>\n",
       "      <th>1</th>\n",
       "      <td>Manowar</td>\n",
       "      <td>Logged In</td>\n",
       "      <td>Jacob</td>\n",
       "      <td>M</td>\n",
       "      <td>0</td>\n",
       "      <td>Klein</td>\n",
       "      <td>247.56200</td>\n",
       "      <td>paid</td>\n",
       "      <td>Tampa-St. Petersburg-Clearwater, FL</td>\n",
       "      <td>PUT</td>\n",
       "      <td>NextSong</td>\n",
       "      <td>1.540558e+12</td>\n",
       "      <td>1049</td>\n",
       "      <td>Shell Shock</td>\n",
       "      <td>200</td>\n",
       "      <td>1543540121796</td>\n",
       "      <td>\"Mozilla/5.0 (Macintosh; Intel Mac OS X 10_9_4...</td>\n",
       "      <td>73</td>\n",
       "    </tr>\n",
       "    <tr>\n",
       "      <th>2</th>\n",
       "      <td>Morcheeba</td>\n",
       "      <td>Logged In</td>\n",
       "      <td>Jacob</td>\n",
       "      <td>M</td>\n",
       "      <td>1</td>\n",
       "      <td>Klein</td>\n",
       "      <td>257.41016</td>\n",
       "      <td>paid</td>\n",
       "      <td>Tampa-St. Petersburg-Clearwater, FL</td>\n",
       "      <td>PUT</td>\n",
       "      <td>NextSong</td>\n",
       "      <td>1.540558e+12</td>\n",
       "      <td>1049</td>\n",
       "      <td>Women Lose Weight (Feat: Slick Rick)</td>\n",
       "      <td>200</td>\n",
       "      <td>1543540368796</td>\n",
       "      <td>\"Mozilla/5.0 (Macintosh; Intel Mac OS X 10_9_4...</td>\n",
       "      <td>73</td>\n",
       "    </tr>\n",
       "    <tr>\n",
       "      <th>3</th>\n",
       "      <td>Maroon 5</td>\n",
       "      <td>Logged In</td>\n",
       "      <td>Jacob</td>\n",
       "      <td>M</td>\n",
       "      <td>2</td>\n",
       "      <td>Klein</td>\n",
       "      <td>231.23546</td>\n",
       "      <td>paid</td>\n",
       "      <td>Tampa-St. Petersburg-Clearwater, FL</td>\n",
       "      <td>PUT</td>\n",
       "      <td>NextSong</td>\n",
       "      <td>1.540558e+12</td>\n",
       "      <td>1049</td>\n",
       "      <td>Won't Go Home Without You</td>\n",
       "      <td>200</td>\n",
       "      <td>1543540625796</td>\n",
       "      <td>\"Mozilla/5.0 (Macintosh; Intel Mac OS X 10_9_4...</td>\n",
       "      <td>73</td>\n",
       "    </tr>\n",
       "    <tr>\n",
       "      <th>4</th>\n",
       "      <td>Train</td>\n",
       "      <td>Logged In</td>\n",
       "      <td>Jacob</td>\n",
       "      <td>M</td>\n",
       "      <td>3</td>\n",
       "      <td>Klein</td>\n",
       "      <td>216.76363</td>\n",
       "      <td>paid</td>\n",
       "      <td>Tampa-St. Petersburg-Clearwater, FL</td>\n",
       "      <td>PUT</td>\n",
       "      <td>NextSong</td>\n",
       "      <td>1.540558e+12</td>\n",
       "      <td>1049</td>\n",
       "      <td>Hey_ Soul Sister</td>\n",
       "      <td>200</td>\n",
       "      <td>1543540856796</td>\n",
       "      <td>\"Mozilla/5.0 (Macintosh; Intel Mac OS X 10_9_4...</td>\n",
       "      <td>73</td>\n",
       "    </tr>\n",
       "  </tbody>\n",
       "</table>\n",
       "</div>"
      ],
      "text/plain": [
       "          artist       auth firstName gender  itemInSession lastName  \\\n",
       "0  Stephen Lynch  Logged In    Jayden      M              0     Bell   \n",
       "1        Manowar  Logged In     Jacob      M              0    Klein   \n",
       "2      Morcheeba  Logged In     Jacob      M              1    Klein   \n",
       "3       Maroon 5  Logged In     Jacob      M              2    Klein   \n",
       "4          Train  Logged In     Jacob      M              3    Klein   \n",
       "\n",
       "      length level                             location method      page  \\\n",
       "0  182.85669  free      Dallas-Fort Worth-Arlington, TX    PUT  NextSong   \n",
       "1  247.56200  paid  Tampa-St. Petersburg-Clearwater, FL    PUT  NextSong   \n",
       "2  257.41016  paid  Tampa-St. Petersburg-Clearwater, FL    PUT  NextSong   \n",
       "3  231.23546  paid  Tampa-St. Petersburg-Clearwater, FL    PUT  NextSong   \n",
       "4  216.76363  paid  Tampa-St. Petersburg-Clearwater, FL    PUT  NextSong   \n",
       "\n",
       "   registration  sessionId                                  song  status  \\\n",
       "0  1.540992e+12        829                     Jim Henson's Dead     200   \n",
       "1  1.540558e+12       1049                           Shell Shock     200   \n",
       "2  1.540558e+12       1049  Women Lose Weight (Feat: Slick Rick)     200   \n",
       "3  1.540558e+12       1049             Won't Go Home Without You     200   \n",
       "4  1.540558e+12       1049                      Hey_ Soul Sister     200   \n",
       "\n",
       "              ts                                          userAgent userId  \n",
       "0  1543537327796  Mozilla/5.0 (compatible; MSIE 10.0; Windows NT...     91  \n",
       "1  1543540121796  \"Mozilla/5.0 (Macintosh; Intel Mac OS X 10_9_4...     73  \n",
       "2  1543540368796  \"Mozilla/5.0 (Macintosh; Intel Mac OS X 10_9_4...     73  \n",
       "3  1543540625796  \"Mozilla/5.0 (Macintosh; Intel Mac OS X 10_9_4...     73  \n",
       "4  1543540856796  \"Mozilla/5.0 (Macintosh; Intel Mac OS X 10_9_4...     73  "
      ]
     },
     "execution_count": 14,
     "metadata": {},
     "output_type": "execute_result"
    }
   ],
   "source": [
    "df = df[df['page'] == 'NextSong']\n",
    "df.head()"
   ]
  },
  {
   "cell_type": "code",
   "execution_count": 15,
   "metadata": {
    "editable": true
   },
   "outputs": [
    {
     "data": {
      "text/plain": [
       "0   2018-11-30 00:22:07.796\n",
       "1   2018-11-30 01:08:41.796\n",
       "2   2018-11-30 01:12:48.796\n",
       "3   2018-11-30 01:17:05.796\n",
       "4   2018-11-30 01:20:56.796\n",
       "Name: ts, dtype: datetime64[ns]"
      ]
     },
     "execution_count": 15,
     "metadata": {},
     "output_type": "execute_result"
    }
   ],
   "source": [
    "t = pd.to_datetime(df['ts'], unit = 'ms')\n",
    "t.head()"
   ]
  },
  {
   "cell_type": "code",
   "execution_count": 16,
   "metadata": {
    "editable": true
   },
   "outputs": [],
   "source": [
    "time_data = list(zip(t.dt.strftime('%Y-%m-%d %I:%M:%S'), t.dt.hour, t.dt.day, t.dt.week, t.dt.month, t.dt.year, t.dt.weekday))\n",
    "column_labels = ('start_time', 'hour', 'day', 'week', 'month', 'year', 'weekday')"
   ]
  },
  {
   "cell_type": "code",
   "execution_count": 17,
   "metadata": {
    "collapsed": true,
    "editable": true,
    "jupyter": {
     "outputs_hidden": true
    }
   },
   "outputs": [
    {
     "name": "stdout",
     "output_type": "stream",
     "text": [
      "['2018-11-30 12:22:07', 0, 30, 48, 11, 2018, 4]\n",
      "['2018-11-30 01:08:41', 1, 30, 48, 11, 2018, 4]\n",
      "['2018-11-30 01:12:48', 1, 30, 48, 11, 2018, 4]\n",
      "['2018-11-30 01:17:05', 1, 30, 48, 11, 2018, 4]\n",
      "['2018-11-30 01:20:56', 1, 30, 48, 11, 2018, 4]\n",
      "['2018-11-30 01:24:32', 1, 30, 48, 11, 2018, 4]\n",
      "['2018-11-30 01:28:19', 1, 30, 48, 11, 2018, 4]\n",
      "['2018-11-30 01:32:00', 1, 30, 48, 11, 2018, 4]\n",
      "['2018-11-30 01:38:17', 1, 30, 48, 11, 2018, 4]\n",
      "['2018-11-30 01:39:53', 1, 30, 48, 11, 2018, 4]\n",
      "['2018-11-30 01:44:10', 1, 30, 48, 11, 2018, 4]\n",
      "['2018-11-30 01:48:36', 1, 30, 48, 11, 2018, 4]\n",
      "['2018-11-30 01:50:28', 1, 30, 48, 11, 2018, 4]\n",
      "['2018-11-30 01:55:35', 1, 30, 48, 11, 2018, 4]\n",
      "['2018-11-30 02:01:08', 2, 30, 48, 11, 2018, 4]\n",
      "['2018-11-30 02:05:24', 2, 30, 48, 11, 2018, 4]\n",
      "['2018-11-30 02:10:21', 2, 30, 48, 11, 2018, 4]\n",
      "['2018-11-30 02:15:54', 2, 30, 48, 11, 2018, 4]\n",
      "['2018-11-30 02:19:19', 2, 30, 48, 11, 2018, 4]\n",
      "['2018-11-30 03:06:30', 3, 30, 48, 11, 2018, 4]\n",
      "['2018-11-30 03:10:30', 3, 30, 48, 11, 2018, 4]\n",
      "['2018-11-30 03:13:03', 3, 30, 48, 11, 2018, 4]\n",
      "['2018-11-30 03:15:41', 3, 30, 48, 11, 2018, 4]\n",
      "['2018-11-30 03:21:09', 3, 30, 48, 11, 2018, 4]\n",
      "['2018-11-30 03:29:23', 3, 30, 48, 11, 2018, 4]\n",
      "['2018-11-30 03:32:46', 3, 30, 48, 11, 2018, 4]\n",
      "['2018-11-30 03:37:24', 3, 30, 48, 11, 2018, 4]\n",
      "['2018-11-30 03:39:31', 3, 30, 48, 11, 2018, 4]\n",
      "['2018-11-30 03:44:28', 3, 30, 48, 11, 2018, 4]\n",
      "['2018-11-30 03:49:50', 3, 30, 48, 11, 2018, 4]\n",
      "['2018-11-30 03:55:42', 3, 30, 48, 11, 2018, 4]\n",
      "['2018-11-30 03:58:21', 3, 30, 48, 11, 2018, 4]\n",
      "['2018-11-30 04:00:57', 4, 30, 48, 11, 2018, 4]\n",
      "['2018-11-30 04:04:13', 4, 30, 48, 11, 2018, 4]\n",
      "['2018-11-30 04:06:01', 4, 30, 48, 11, 2018, 4]\n",
      "['2018-11-30 04:09:20', 4, 30, 48, 11, 2018, 4]\n",
      "['2018-11-30 04:12:58', 4, 30, 48, 11, 2018, 4]\n",
      "['2018-11-30 04:13:07', 4, 30, 48, 11, 2018, 4]\n",
      "['2018-11-30 04:17:10', 4, 30, 48, 11, 2018, 4]\n",
      "['2018-11-30 04:20:32', 4, 30, 48, 11, 2018, 4]\n",
      "['2018-11-30 04:21:20', 4, 30, 48, 11, 2018, 4]\n",
      "['2018-11-30 04:23:31', 4, 30, 48, 11, 2018, 4]\n",
      "['2018-11-30 04:24:50', 4, 30, 48, 11, 2018, 4]\n",
      "['2018-11-30 04:26:49', 4, 30, 48, 11, 2018, 4]\n",
      "['2018-11-30 04:27:14', 4, 30, 48, 11, 2018, 4]\n",
      "['2018-11-30 04:31:08', 4, 30, 48, 11, 2018, 4]\n",
      "['2018-11-30 04:32:02', 4, 30, 48, 11, 2018, 4]\n",
      "['2018-11-30 04:36:30', 4, 30, 48, 11, 2018, 4]\n",
      "['2018-11-30 04:42:05', 4, 30, 48, 11, 2018, 4]\n",
      "['2018-11-30 04:46:03', 4, 30, 48, 11, 2018, 4]\n",
      "['2018-11-30 04:51:49', 4, 30, 48, 11, 2018, 4]\n",
      "['2018-11-30 04:56:11', 4, 30, 48, 11, 2018, 4]\n",
      "['2018-11-30 04:57:03', 4, 30, 48, 11, 2018, 4]\n",
      "['2018-11-30 05:03:06', 5, 30, 48, 11, 2018, 4]\n",
      "['2018-11-30 05:06:32', 5, 30, 48, 11, 2018, 4]\n",
      "['2018-11-30 05:11:09', 5, 30, 48, 11, 2018, 4]\n",
      "['2018-11-30 05:12:20', 5, 30, 48, 11, 2018, 4]\n",
      "['2018-11-30 05:15:12', 5, 30, 48, 11, 2018, 4]\n",
      "['2018-11-30 05:16:54', 5, 30, 48, 11, 2018, 4]\n",
      "['2018-11-30 05:19:35', 5, 30, 48, 11, 2018, 4]\n",
      "['2018-11-30 05:20:54', 5, 30, 48, 11, 2018, 4]\n",
      "['2018-11-30 05:23:34', 5, 30, 48, 11, 2018, 4]\n",
      "['2018-11-30 05:24:45', 5, 30, 48, 11, 2018, 4]\n",
      "['2018-11-30 05:28:28', 5, 30, 48, 11, 2018, 4]\n",
      "['2018-11-30 05:29:04', 5, 30, 48, 11, 2018, 4]\n",
      "['2018-11-30 05:31:25', 5, 30, 48, 11, 2018, 4]\n",
      "['2018-11-30 05:31:44', 5, 30, 48, 11, 2018, 4]\n",
      "['2018-11-30 05:32:47', 5, 30, 48, 11, 2018, 4]\n",
      "['2018-11-30 05:36:03', 5, 30, 48, 11, 2018, 4]\n",
      "['2018-11-30 05:36:45', 5, 30, 48, 11, 2018, 4]\n",
      "['2018-11-30 05:39:39', 5, 30, 48, 11, 2018, 4]\n",
      "['2018-11-30 05:40:31', 5, 30, 48, 11, 2018, 4]\n",
      "['2018-11-30 05:43:04', 5, 30, 48, 11, 2018, 4]\n",
      "['2018-11-30 05:43:56', 5, 30, 48, 11, 2018, 4]\n",
      "['2018-11-30 05:46:01', 5, 30, 48, 11, 2018, 4]\n",
      "['2018-11-30 05:48:56', 5, 30, 48, 11, 2018, 4]\n",
      "['2018-11-30 05:50:07', 5, 30, 48, 11, 2018, 4]\n",
      "['2018-11-30 05:54:19', 5, 30, 48, 11, 2018, 4]\n",
      "['2018-11-30 05:57:11', 5, 30, 48, 11, 2018, 4]\n",
      "['2018-11-30 05:58:01', 5, 30, 48, 11, 2018, 4]\n",
      "['2018-11-30 06:01:40', 6, 30, 48, 11, 2018, 4]\n",
      "['2018-11-30 06:04:50', 6, 30, 48, 11, 2018, 4]\n",
      "['2018-11-30 06:04:55', 6, 30, 48, 11, 2018, 4]\n",
      "['2018-11-30 06:07:57', 6, 30, 48, 11, 2018, 4]\n",
      "['2018-11-30 06:10:18', 6, 30, 48, 11, 2018, 4]\n",
      "['2018-11-30 06:12:54', 6, 30, 48, 11, 2018, 4]\n",
      "['2018-11-30 06:13:23', 6, 30, 48, 11, 2018, 4]\n",
      "['2018-11-30 06:14:02', 6, 30, 48, 11, 2018, 4]\n",
      "['2018-11-30 06:16:35', 6, 30, 48, 11, 2018, 4]\n",
      "['2018-11-30 06:18:28', 6, 30, 48, 11, 2018, 4]\n",
      "['2018-11-30 06:21:31', 6, 30, 48, 11, 2018, 4]\n",
      "['2018-11-30 06:26:25', 6, 30, 48, 11, 2018, 4]\n",
      "['2018-11-30 06:30:35', 6, 30, 48, 11, 2018, 4]\n",
      "['2018-11-30 06:33:56', 6, 30, 48, 11, 2018, 4]\n",
      "['2018-11-30 06:37:14', 6, 30, 48, 11, 2018, 4]\n",
      "['2018-11-30 06:40:47', 6, 30, 48, 11, 2018, 4]\n",
      "['2018-11-30 06:44:27', 6, 30, 48, 11, 2018, 4]\n",
      "['2018-11-30 06:48:28', 6, 30, 48, 11, 2018, 4]\n",
      "['2018-11-30 06:52:31', 6, 30, 48, 11, 2018, 4]\n",
      "['2018-11-30 06:54:42', 6, 30, 48, 11, 2018, 4]\n",
      "['2018-11-30 06:58:38', 6, 30, 48, 11, 2018, 4]\n",
      "['2018-11-30 07:02:23', 7, 30, 48, 11, 2018, 4]\n",
      "['2018-11-30 07:08:35', 7, 30, 48, 11, 2018, 4]\n",
      "['2018-11-30 07:15:24', 7, 30, 48, 11, 2018, 4]\n",
      "['2018-11-30 07:18:31', 7, 30, 48, 11, 2018, 4]\n",
      "['2018-11-30 07:22:12', 7, 30, 48, 11, 2018, 4]\n",
      "['2018-11-30 07:24:45', 7, 30, 48, 11, 2018, 4]\n",
      "['2018-11-30 07:28:29', 7, 30, 48, 11, 2018, 4]\n",
      "['2018-11-30 07:29:09', 7, 30, 48, 11, 2018, 4]\n",
      "['2018-11-30 07:31:39', 7, 30, 48, 11, 2018, 4]\n",
      "['2018-11-30 07:36:23', 7, 30, 48, 11, 2018, 4]\n",
      "['2018-11-30 07:38:51', 7, 30, 48, 11, 2018, 4]\n",
      "['2018-11-30 07:42:37', 7, 30, 48, 11, 2018, 4]\n",
      "['2018-11-30 07:47:05', 7, 30, 48, 11, 2018, 4]\n",
      "['2018-11-30 07:49:54', 7, 30, 48, 11, 2018, 4]\n",
      "['2018-11-30 08:16:11', 8, 30, 48, 11, 2018, 4]\n",
      "['2018-11-30 08:20:12', 8, 30, 48, 11, 2018, 4]\n",
      "['2018-11-30 08:21:57', 8, 30, 48, 11, 2018, 4]\n",
      "['2018-11-30 08:26:07', 8, 30, 48, 11, 2018, 4]\n",
      "['2018-11-30 08:29:58', 8, 30, 48, 11, 2018, 4]\n",
      "['2018-11-30 08:32:43', 8, 30, 48, 11, 2018, 4]\n",
      "['2018-11-30 08:38:38', 8, 30, 48, 11, 2018, 4]\n",
      "['2018-11-30 08:46:21', 8, 30, 48, 11, 2018, 4]\n",
      "['2018-11-30 10:12:54', 10, 30, 48, 11, 2018, 4]\n",
      "['2018-11-30 10:18:07', 10, 30, 48, 11, 2018, 4]\n",
      "['2018-11-30 10:22:53', 10, 30, 48, 11, 2018, 4]\n",
      "['2018-11-30 10:27:08', 10, 30, 48, 11, 2018, 4]\n",
      "['2018-11-30 10:30:53', 10, 30, 48, 11, 2018, 4]\n",
      "['2018-11-30 10:35:18', 10, 30, 48, 11, 2018, 4]\n",
      "['2018-11-30 10:38:54', 10, 30, 48, 11, 2018, 4]\n",
      "['2018-11-30 10:42:09', 10, 30, 48, 11, 2018, 4]\n",
      "['2018-11-30 10:46:06', 10, 30, 48, 11, 2018, 4]\n",
      "['2018-11-30 10:49:40', 10, 30, 48, 11, 2018, 4]\n",
      "['2018-11-30 10:54:05', 10, 30, 48, 11, 2018, 4]\n",
      "['2018-11-30 10:56:25', 10, 30, 48, 11, 2018, 4]\n",
      "['2018-11-30 10:59:23', 10, 30, 48, 11, 2018, 4]\n",
      "['2018-11-30 11:00:01', 11, 30, 48, 11, 2018, 4]\n",
      "['2018-11-30 11:06:18', 11, 30, 48, 11, 2018, 4]\n",
      "['2018-11-30 11:09:49', 11, 30, 48, 11, 2018, 4]\n",
      "['2018-11-30 11:10:18', 11, 30, 48, 11, 2018, 4]\n",
      "['2018-11-30 11:13:07', 11, 30, 48, 11, 2018, 4]\n",
      "['2018-11-30 11:16:10', 11, 30, 48, 11, 2018, 4]\n",
      "['2018-11-30 11:20:03', 11, 30, 48, 11, 2018, 4]\n",
      "['2018-11-30 11:23:44', 11, 30, 48, 11, 2018, 4]\n",
      "['2018-11-30 11:28:16', 11, 30, 48, 11, 2018, 4]\n",
      "['2018-11-30 11:32:04', 11, 30, 48, 11, 2018, 4]\n",
      "['2018-11-30 11:37:23', 11, 30, 48, 11, 2018, 4]\n",
      "['2018-11-30 11:41:03', 11, 30, 48, 11, 2018, 4]\n",
      "['2018-11-30 11:46:23', 11, 30, 48, 11, 2018, 4]\n",
      "['2018-11-30 11:49:42', 11, 30, 48, 11, 2018, 4]\n",
      "['2018-11-30 12:10:57', 12, 30, 48, 11, 2018, 4]\n",
      "['2018-11-30 12:31:18', 12, 30, 48, 11, 2018, 4]\n",
      "['2018-11-30 12:34:47', 12, 30, 48, 11, 2018, 4]\n",
      "['2018-11-30 12:39:36', 12, 30, 48, 11, 2018, 4]\n",
      "['2018-11-30 12:47:53', 12, 30, 48, 11, 2018, 4]\n",
      "['2018-11-30 12:52:50', 12, 30, 48, 11, 2018, 4]\n",
      "['2018-11-30 12:57:05', 12, 30, 48, 11, 2018, 4]\n",
      "['2018-11-30 12:57:53', 12, 30, 48, 11, 2018, 4]\n",
      "['2018-11-30 01:01:42', 13, 30, 48, 11, 2018, 4]\n",
      "['2018-11-30 01:05:54', 13, 30, 48, 11, 2018, 4]\n",
      "['2018-11-30 01:10:16', 13, 30, 48, 11, 2018, 4]\n",
      "['2018-11-30 01:13:45', 13, 30, 48, 11, 2018, 4]\n",
      "['2018-11-30 01:17:25', 13, 30, 48, 11, 2018, 4]\n",
      "['2018-11-30 01:20:30', 13, 30, 48, 11, 2018, 4]\n",
      "['2018-11-30 01:20:44', 13, 30, 48, 11, 2018, 4]\n",
      "['2018-11-30 01:27:49', 13, 30, 48, 11, 2018, 4]\n",
      "['2018-11-30 01:31:28', 13, 30, 48, 11, 2018, 4]\n",
      "['2018-11-30 01:34:49', 13, 30, 48, 11, 2018, 4]\n",
      "['2018-11-30 01:38:42', 13, 30, 48, 11, 2018, 4]\n",
      "['2018-11-30 01:41:51', 13, 30, 48, 11, 2018, 4]\n",
      "['2018-11-30 01:43:40', 13, 30, 48, 11, 2018, 4]\n",
      "['2018-11-30 01:45:20', 13, 30, 48, 11, 2018, 4]\n",
      "['2018-11-30 01:48:07', 13, 30, 48, 11, 2018, 4]\n",
      "['2018-11-30 01:48:55', 13, 30, 48, 11, 2018, 4]\n",
      "['2018-11-30 01:52:37', 13, 30, 48, 11, 2018, 4]\n",
      "['2018-11-30 01:52:55', 13, 30, 48, 11, 2018, 4]\n",
      "['2018-11-30 01:56:36', 13, 30, 48, 11, 2018, 4]\n",
      "['2018-11-30 01:57:21', 13, 30, 48, 11, 2018, 4]\n",
      "['2018-11-30 01:57:24', 13, 30, 48, 11, 2018, 4]\n",
      "['2018-11-30 01:59:31', 13, 30, 48, 11, 2018, 4]\n",
      "['2018-11-30 02:00:38', 14, 30, 48, 11, 2018, 4]\n",
      "['2018-11-30 02:01:42', 14, 30, 48, 11, 2018, 4]\n",
      "['2018-11-30 02:01:43', 14, 30, 48, 11, 2018, 4]\n",
      "['2018-11-30 02:03:21', 14, 30, 48, 11, 2018, 4]\n",
      "['2018-11-30 02:04:47', 14, 30, 48, 11, 2018, 4]\n",
      "['2018-11-30 02:06:43', 14, 30, 48, 11, 2018, 4]\n",
      "['2018-11-30 02:07:56', 14, 30, 48, 11, 2018, 4]\n",
      "['2018-11-30 02:10:01', 14, 30, 48, 11, 2018, 4]\n",
      "['2018-11-30 02:11:25', 14, 30, 48, 11, 2018, 4]\n",
      "['2018-11-30 02:12:16', 14, 30, 48, 11, 2018, 4]\n",
      "['2018-11-30 02:15:25', 14, 30, 48, 11, 2018, 4]\n",
      "['2018-11-30 02:16:36', 14, 30, 48, 11, 2018, 4]\n",
      "['2018-11-30 02:19:48', 14, 30, 48, 11, 2018, 4]\n",
      "['2018-11-30 02:21:45', 14, 30, 48, 11, 2018, 4]\n",
      "['2018-11-30 02:24:02', 14, 30, 48, 11, 2018, 4]\n",
      "['2018-11-30 02:27:42', 14, 30, 48, 11, 2018, 4]\n",
      "['2018-11-30 02:28:26', 14, 30, 48, 11, 2018, 4]\n",
      "['2018-11-30 02:31:15', 14, 30, 48, 11, 2018, 4]\n",
      "['2018-11-30 02:33:39', 14, 30, 48, 11, 2018, 4]\n",
      "['2018-11-30 02:33:53', 14, 30, 48, 11, 2018, 4]\n",
      "['2018-11-30 02:36:07', 14, 30, 48, 11, 2018, 4]\n",
      "['2018-11-30 02:37:56', 14, 30, 48, 11, 2018, 4]\n",
      "['2018-11-30 02:38:37', 14, 30, 48, 11, 2018, 4]\n",
      "['2018-11-30 02:41:06', 14, 30, 48, 11, 2018, 4]\n",
      "['2018-11-30 02:42:01', 14, 30, 48, 11, 2018, 4]\n",
      "['2018-11-30 02:42:38', 14, 30, 48, 11, 2018, 4]\n",
      "['2018-11-30 02:42:45', 14, 30, 48, 11, 2018, 4]\n",
      "['2018-11-30 02:43:50', 14, 30, 48, 11, 2018, 4]\n",
      "['2018-11-30 02:45:13', 14, 30, 48, 11, 2018, 4]\n",
      "['2018-11-30 02:46:43', 14, 30, 48, 11, 2018, 4]\n",
      "['2018-11-30 02:47:35', 14, 30, 48, 11, 2018, 4]\n",
      "['2018-11-30 02:49:37', 14, 30, 48, 11, 2018, 4]\n",
      "['2018-11-30 02:51:37', 14, 30, 48, 11, 2018, 4]\n",
      "['2018-11-30 02:52:04', 14, 30, 48, 11, 2018, 4]\n",
      "['2018-11-30 02:53:33', 14, 30, 48, 11, 2018, 4]\n",
      "['2018-11-30 02:55:25', 14, 30, 48, 11, 2018, 4]\n",
      "['2018-11-30 02:57:52', 14, 30, 48, 11, 2018, 4]\n",
      "['2018-11-30 02:59:31', 14, 30, 48, 11, 2018, 4]\n",
      "['2018-11-30 02:59:32', 14, 30, 48, 11, 2018, 4]\n",
      "['2018-11-30 03:01:06', 15, 30, 48, 11, 2018, 4]\n",
      "['2018-11-30 03:02:42', 15, 30, 48, 11, 2018, 4]\n",
      "['2018-11-30 03:05:47', 15, 30, 48, 11, 2018, 4]\n",
      "['2018-11-30 03:05:56', 15, 30, 48, 11, 2018, 4]\n",
      "['2018-11-30 03:06:38', 15, 30, 48, 11, 2018, 4]\n",
      "['2018-11-30 03:09:01', 15, 30, 48, 11, 2018, 4]\n",
      "['2018-11-30 03:10:07', 15, 30, 48, 11, 2018, 4]\n",
      "['2018-11-30 03:11:47', 15, 30, 48, 11, 2018, 4]\n",
      "['2018-11-30 03:12:54', 15, 30, 48, 11, 2018, 4]\n",
      "['2018-11-30 03:13:03', 15, 30, 48, 11, 2018, 4]\n",
      "['2018-11-30 03:14:35', 15, 30, 48, 11, 2018, 4]\n",
      "['2018-11-30 03:15:05', 15, 30, 48, 11, 2018, 4]\n",
      "['2018-11-30 03:16:02', 15, 30, 48, 11, 2018, 4]\n",
      "['2018-11-30 03:17:07', 15, 30, 48, 11, 2018, 4]\n",
      "['2018-11-30 03:18:58', 15, 30, 48, 11, 2018, 4]\n",
      "['2018-11-30 03:21:29', 15, 30, 48, 11, 2018, 4]\n",
      "['2018-11-30 03:22:09', 15, 30, 48, 11, 2018, 4]\n",
      "['2018-11-30 03:22:54', 15, 30, 48, 11, 2018, 4]\n",
      "['2018-11-30 03:24:45', 15, 30, 48, 11, 2018, 4]\n",
      "['2018-11-30 03:25:59', 15, 30, 48, 11, 2018, 4]\n",
      "['2018-11-30 03:27:25', 15, 30, 48, 11, 2018, 4]\n",
      "['2018-11-30 03:28:30', 15, 30, 48, 11, 2018, 4]\n",
      "['2018-11-30 03:32:00', 15, 30, 48, 11, 2018, 4]\n",
      "['2018-11-30 03:33:06', 15, 30, 48, 11, 2018, 4]\n",
      "['2018-11-30 03:37:07', 15, 30, 48, 11, 2018, 4]\n",
      "['2018-11-30 03:42:22', 15, 30, 48, 11, 2018, 4]\n",
      "['2018-11-30 03:46:15', 15, 30, 48, 11, 2018, 4]\n",
      "['2018-11-30 03:50:08', 15, 30, 48, 11, 2018, 4]\n",
      "['2018-11-30 03:51:02', 15, 30, 48, 11, 2018, 4]\n",
      "['2018-11-30 03:53:37', 15, 30, 48, 11, 2018, 4]\n",
      "['2018-11-30 03:54:23', 15, 30, 48, 11, 2018, 4]\n",
      "['2018-11-30 03:57:42', 15, 30, 48, 11, 2018, 4]\n",
      "['2018-11-30 03:58:51', 15, 30, 48, 11, 2018, 4]\n",
      "['2018-11-30 04:00:31', 16, 30, 48, 11, 2018, 4]\n",
      "['2018-11-30 04:03:06', 16, 30, 48, 11, 2018, 4]\n",
      "['2018-11-30 04:06:15', 16, 30, 48, 11, 2018, 4]\n",
      "['2018-11-30 04:07:52', 16, 30, 48, 11, 2018, 4]\n",
      "['2018-11-30 04:09:16', 16, 30, 48, 11, 2018, 4]\n",
      "['2018-11-30 04:12:03', 16, 30, 48, 11, 2018, 4]\n",
      "['2018-11-30 04:13:08', 16, 30, 48, 11, 2018, 4]\n",
      "['2018-11-30 04:15:19', 16, 30, 48, 11, 2018, 4]\n",
      "['2018-11-30 04:17:45', 16, 30, 48, 11, 2018, 4]\n",
      "['2018-11-30 04:18:18', 16, 30, 48, 11, 2018, 4]\n",
      "['2018-11-30 04:20:04', 16, 30, 48, 11, 2018, 4]\n",
      "['2018-11-30 04:21:23', 16, 30, 48, 11, 2018, 4]\n",
      "['2018-11-30 04:21:33', 16, 30, 48, 11, 2018, 4]\n",
      "['2018-11-30 04:25:17', 16, 30, 48, 11, 2018, 4]\n",
      "['2018-11-30 04:27:09', 16, 30, 48, 11, 2018, 4]\n",
      "['2018-11-30 04:31:25', 16, 30, 48, 11, 2018, 4]\n",
      "['2018-11-30 04:34:12', 16, 30, 48, 11, 2018, 4]\n",
      "['2018-11-30 04:35:57', 16, 30, 48, 11, 2018, 4]\n",
      "['2018-11-30 04:38:10', 16, 30, 48, 11, 2018, 4]\n",
      "['2018-11-30 04:39:12', 16, 30, 48, 11, 2018, 4]\n",
      "['2018-11-30 04:41:23', 16, 30, 48, 11, 2018, 4]\n",
      "['2018-11-30 04:43:28', 16, 30, 48, 11, 2018, 4]\n",
      "['2018-11-30 04:45:28', 16, 30, 48, 11, 2018, 4]\n",
      "['2018-11-30 04:49:06', 16, 30, 48, 11, 2018, 4]\n",
      "['2018-11-30 04:51:42', 16, 30, 48, 11, 2018, 4]\n",
      "['2018-11-30 04:55:41', 16, 30, 48, 11, 2018, 4]\n",
      "['2018-11-30 04:59:06', 16, 30, 48, 11, 2018, 4]\n",
      "['2018-11-30 05:03:03', 17, 30, 48, 11, 2018, 4]\n",
      "['2018-11-30 05:07:22', 17, 30, 48, 11, 2018, 4]\n",
      "['2018-11-30 05:11:16', 17, 30, 48, 11, 2018, 4]\n",
      "['2018-11-30 05:16:14', 17, 30, 48, 11, 2018, 4]\n",
      "['2018-11-30 05:19:28', 17, 30, 48, 11, 2018, 4]\n",
      "['2018-11-30 05:19:58', 17, 30, 48, 11, 2018, 4]\n",
      "['2018-11-30 05:22:01', 17, 30, 48, 11, 2018, 4]\n",
      "['2018-11-30 05:24:07', 17, 30, 48, 11, 2018, 4]\n",
      "['2018-11-30 05:25:36', 17, 30, 48, 11, 2018, 4]\n",
      "['2018-11-30 05:28:37', 17, 30, 48, 11, 2018, 4]\n",
      "['2018-11-30 05:30:27', 17, 30, 48, 11, 2018, 4]\n",
      "['2018-11-30 05:31:24', 17, 30, 48, 11, 2018, 4]\n",
      "['2018-11-30 05:34:27', 17, 30, 48, 11, 2018, 4]\n",
      "['2018-11-30 05:35:07', 17, 30, 48, 11, 2018, 4]\n",
      "['2018-11-30 05:39:08', 17, 30, 48, 11, 2018, 4]\n",
      "['2018-11-30 05:39:17', 17, 30, 48, 11, 2018, 4]\n",
      "['2018-11-30 05:42:58', 17, 30, 48, 11, 2018, 4]\n",
      "['2018-11-30 05:44:00', 17, 30, 48, 11, 2018, 4]\n",
      "['2018-11-30 05:45:41', 17, 30, 48, 11, 2018, 4]\n",
      "['2018-11-30 05:47:13', 17, 30, 48, 11, 2018, 4]\n",
      "['2018-11-30 05:48:55', 17, 30, 48, 11, 2018, 4]\n",
      "['2018-11-30 05:49:45', 17, 30, 48, 11, 2018, 4]\n",
      "['2018-11-30 05:53:44', 17, 30, 48, 11, 2018, 4]\n",
      "['2018-11-30 05:54:43', 17, 30, 48, 11, 2018, 4]\n",
      "['2018-11-30 05:57:24', 17, 30, 48, 11, 2018, 4]\n",
      "['2018-11-30 05:58:43', 17, 30, 48, 11, 2018, 4]\n",
      "['2018-11-30 06:03:19', 18, 30, 48, 11, 2018, 4]\n",
      "['2018-11-30 06:04:23', 18, 30, 48, 11, 2018, 4]\n",
      "['2018-11-30 06:08:07', 18, 30, 48, 11, 2018, 4]\n",
      "['2018-11-30 06:10:01', 18, 30, 48, 11, 2018, 4]\n",
      "['2018-11-30 06:13:36', 18, 30, 48, 11, 2018, 4]\n",
      "['2018-11-30 06:14:56', 18, 30, 48, 11, 2018, 4]\n",
      "['2018-11-30 06:16:20', 18, 30, 48, 11, 2018, 4]\n",
      "['2018-11-30 06:19:03', 18, 30, 48, 11, 2018, 4]\n",
      "['2018-11-30 06:19:33', 18, 30, 48, 11, 2018, 4]\n",
      "['2018-11-30 06:21:19', 18, 30, 48, 11, 2018, 4]\n",
      "['2018-11-30 06:21:46', 18, 30, 48, 11, 2018, 4]\n",
      "['2018-11-30 06:24:05', 18, 30, 48, 11, 2018, 4]\n",
      "['2018-11-30 06:26:12', 18, 30, 48, 11, 2018, 4]\n",
      "['2018-11-30 06:28:08', 18, 30, 48, 11, 2018, 4]\n",
      "['2018-11-30 06:29:02', 18, 30, 48, 11, 2018, 4]\n",
      "['2018-11-30 06:31:34', 18, 30, 48, 11, 2018, 4]\n",
      "['2018-11-30 06:32:46', 18, 30, 48, 11, 2018, 4]\n",
      "['2018-11-30 06:35:19', 18, 30, 48, 11, 2018, 4]\n",
      "['2018-11-30 06:36:25', 18, 30, 48, 11, 2018, 4]\n",
      "['2018-11-30 06:39:22', 18, 30, 48, 11, 2018, 4]\n",
      "['2018-11-30 06:40:05', 18, 30, 48, 11, 2018, 4]\n",
      "['2018-11-30 06:44:36', 18, 30, 48, 11, 2018, 4]\n",
      "['2018-11-30 06:47:58', 18, 30, 48, 11, 2018, 4]\n",
      "['2018-11-30 06:51:24', 18, 30, 48, 11, 2018, 4]\n",
      "['2018-11-30 07:54:24', 19, 30, 48, 11, 2018, 4]\n"
     ]
    }
   ],
   "source": [
    "time_df = pd.DataFrame(time_data, columns = column_labels)\n",
    "\n",
    "for i, row in time_df.iterrows():\n",
    "    print(list(row))"
   ]
  },
  {
   "cell_type": "markdown",
   "metadata": {
    "editable": true
   },
   "source": [
    "#### Insert Records into Time Table\n",
    "Implement the `time_table_insert` query in `sql_queries.py` and run the cell below to insert records for the timestamps in this log file into the `time` table. Remember to run `create_tables.py` before running the cell below to ensure you've created/resetted the `time` table in the sparkify database."
   ]
  },
  {
   "cell_type": "code",
   "execution_count": 18,
   "metadata": {
    "editable": true
   },
   "outputs": [],
   "source": [
    "for i, row in time_df.iterrows():\n",
    "    cur.execute(time_table_insert, list(row))\n",
    "    conn.commit()"
   ]
  },
  {
   "cell_type": "markdown",
   "metadata": {
    "editable": true
   },
   "source": [
    "Run `test.ipynb` to see if you've successfully added records to this table."
   ]
  },
  {
   "cell_type": "markdown",
   "metadata": {
    "editable": true
   },
   "source": [
    "## #4: `users` Table\n",
    "#### Extract Data for Users Table\n",
    "- Select columns for user ID, first name, last name, gender and level and set to `user_df`"
   ]
  },
  {
   "cell_type": "code",
   "execution_count": 19,
   "metadata": {
    "editable": true
   },
   "outputs": [
    {
     "data": {
      "text/html": [
       "<div>\n",
       "<style scoped>\n",
       "    .dataframe tbody tr th:only-of-type {\n",
       "        vertical-align: middle;\n",
       "    }\n",
       "\n",
       "    .dataframe tbody tr th {\n",
       "        vertical-align: top;\n",
       "    }\n",
       "\n",
       "    .dataframe thead th {\n",
       "        text-align: right;\n",
       "    }\n",
       "</style>\n",
       "<table border=\"1\" class=\"dataframe\">\n",
       "  <thead>\n",
       "    <tr style=\"text-align: right;\">\n",
       "      <th></th>\n",
       "      <th>userId</th>\n",
       "      <th>firstName</th>\n",
       "      <th>lastName</th>\n",
       "      <th>gender</th>\n",
       "      <th>level</th>\n",
       "    </tr>\n",
       "  </thead>\n",
       "  <tbody>\n",
       "    <tr>\n",
       "      <th>0</th>\n",
       "      <td>91</td>\n",
       "      <td>Jayden</td>\n",
       "      <td>Bell</td>\n",
       "      <td>M</td>\n",
       "      <td>free</td>\n",
       "    </tr>\n",
       "    <tr>\n",
       "      <th>1</th>\n",
       "      <td>73</td>\n",
       "      <td>Jacob</td>\n",
       "      <td>Klein</td>\n",
       "      <td>M</td>\n",
       "      <td>paid</td>\n",
       "    </tr>\n",
       "    <tr>\n",
       "      <th>23</th>\n",
       "      <td>86</td>\n",
       "      <td>Aiden</td>\n",
       "      <td>Hess</td>\n",
       "      <td>M</td>\n",
       "      <td>free</td>\n",
       "    </tr>\n",
       "    <tr>\n",
       "      <th>30</th>\n",
       "      <td>24</td>\n",
       "      <td>Layla</td>\n",
       "      <td>Griffin</td>\n",
       "      <td>F</td>\n",
       "      <td>paid</td>\n",
       "    </tr>\n",
       "    <tr>\n",
       "      <th>40</th>\n",
       "      <td>26</td>\n",
       "      <td>Ryan</td>\n",
       "      <td>Smith</td>\n",
       "      <td>M</td>\n",
       "      <td>free</td>\n",
       "    </tr>\n",
       "    <tr>\n",
       "      <th>59</th>\n",
       "      <td>49</td>\n",
       "      <td>Chloe</td>\n",
       "      <td>Cuevas</td>\n",
       "      <td>F</td>\n",
       "      <td>paid</td>\n",
       "    </tr>\n",
       "    <tr>\n",
       "      <th>62</th>\n",
       "      <td>57</td>\n",
       "      <td>Katherine</td>\n",
       "      <td>Gay</td>\n",
       "      <td>F</td>\n",
       "      <td>free</td>\n",
       "    </tr>\n",
       "    <tr>\n",
       "      <th>69</th>\n",
       "      <td>30</td>\n",
       "      <td>Avery</td>\n",
       "      <td>Watkins</td>\n",
       "      <td>F</td>\n",
       "      <td>paid</td>\n",
       "    </tr>\n",
       "    <tr>\n",
       "      <th>79</th>\n",
       "      <td>92</td>\n",
       "      <td>Ryann</td>\n",
       "      <td>Smith</td>\n",
       "      <td>F</td>\n",
       "      <td>free</td>\n",
       "    </tr>\n",
       "    <tr>\n",
       "      <th>125</th>\n",
       "      <td>74</td>\n",
       "      <td>Braden</td>\n",
       "      <td>Parker</td>\n",
       "      <td>M</td>\n",
       "      <td>free</td>\n",
       "    </tr>\n",
       "    <tr>\n",
       "      <th>135</th>\n",
       "      <td>88</td>\n",
       "      <td>Mohammad</td>\n",
       "      <td>Rodriguez</td>\n",
       "      <td>M</td>\n",
       "      <td>paid</td>\n",
       "    </tr>\n",
       "    <tr>\n",
       "      <th>146</th>\n",
       "      <td>36</td>\n",
       "      <td>Matthew</td>\n",
       "      <td>Jones</td>\n",
       "      <td>M</td>\n",
       "      <td>paid</td>\n",
       "    </tr>\n",
       "    <tr>\n",
       "      <th>177</th>\n",
       "      <td>12</td>\n",
       "      <td>Austin</td>\n",
       "      <td>Rosales</td>\n",
       "      <td>M</td>\n",
       "      <td>free</td>\n",
       "    </tr>\n",
       "    <tr>\n",
       "      <th>186</th>\n",
       "      <td>61</td>\n",
       "      <td>Samuel</td>\n",
       "      <td>Gonzalez</td>\n",
       "      <td>M</td>\n",
       "      <td>free</td>\n",
       "    </tr>\n",
       "    <tr>\n",
       "      <th>194</th>\n",
       "      <td>43</td>\n",
       "      <td>Jahiem</td>\n",
       "      <td>Miles</td>\n",
       "      <td>M</td>\n",
       "      <td>free</td>\n",
       "    </tr>\n",
       "    <tr>\n",
       "      <th>205</th>\n",
       "      <td>85</td>\n",
       "      <td>Kinsley</td>\n",
       "      <td>Young</td>\n",
       "      <td>F</td>\n",
       "      <td>paid</td>\n",
       "    </tr>\n",
       "    <tr>\n",
       "      <th>213</th>\n",
       "      <td>50</td>\n",
       "      <td>Ava</td>\n",
       "      <td>Robinson</td>\n",
       "      <td>F</td>\n",
       "      <td>free</td>\n",
       "    </tr>\n",
       "    <tr>\n",
       "      <th>239</th>\n",
       "      <td>101</td>\n",
       "      <td>Jayden</td>\n",
       "      <td>Fox</td>\n",
       "      <td>M</td>\n",
       "      <td>free</td>\n",
       "    </tr>\n",
       "    <tr>\n",
       "      <th>243</th>\n",
       "      <td>16</td>\n",
       "      <td>Rylan</td>\n",
       "      <td>George</td>\n",
       "      <td>M</td>\n",
       "      <td>paid</td>\n",
       "    </tr>\n",
       "    <tr>\n",
       "      <th>306</th>\n",
       "      <td>78</td>\n",
       "      <td>Chloe</td>\n",
       "      <td>Roth</td>\n",
       "      <td>F</td>\n",
       "      <td>free</td>\n",
       "    </tr>\n",
       "    <tr>\n",
       "      <th>317</th>\n",
       "      <td>33</td>\n",
       "      <td>Bronson</td>\n",
       "      <td>Harris</td>\n",
       "      <td>M</td>\n",
       "      <td>free</td>\n",
       "    </tr>\n",
       "    <tr>\n",
       "      <th>387</th>\n",
       "      <td>5</td>\n",
       "      <td>Elijah</td>\n",
       "      <td>Davis</td>\n",
       "      <td>M</td>\n",
       "      <td>free</td>\n",
       "    </tr>\n",
       "  </tbody>\n",
       "</table>\n",
       "</div>"
      ],
      "text/plain": [
       "    userId  firstName   lastName gender level\n",
       "0       91     Jayden       Bell      M  free\n",
       "1       73      Jacob      Klein      M  paid\n",
       "23      86      Aiden       Hess      M  free\n",
       "30      24      Layla    Griffin      F  paid\n",
       "40      26       Ryan      Smith      M  free\n",
       "59      49      Chloe     Cuevas      F  paid\n",
       "62      57  Katherine        Gay      F  free\n",
       "69      30      Avery    Watkins      F  paid\n",
       "79      92      Ryann      Smith      F  free\n",
       "125     74     Braden     Parker      M  free\n",
       "135     88   Mohammad  Rodriguez      M  paid\n",
       "146     36    Matthew      Jones      M  paid\n",
       "177     12     Austin    Rosales      M  free\n",
       "186     61     Samuel   Gonzalez      M  free\n",
       "194     43     Jahiem      Miles      M  free\n",
       "205     85    Kinsley      Young      F  paid\n",
       "213     50        Ava   Robinson      F  free\n",
       "239    101     Jayden        Fox      M  free\n",
       "243     16      Rylan     George      M  paid\n",
       "306     78      Chloe       Roth      F  free\n",
       "317     33    Bronson     Harris      M  free\n",
       "387      5     Elijah      Davis      M  free"
      ]
     },
     "execution_count": 19,
     "metadata": {},
     "output_type": "execute_result"
    }
   ],
   "source": [
    "# remove duplicates\n",
    "user_df = df[['userId','firstName','lastName', 'gender', 'level']].drop_duplicates()\n",
    "user_df "
   ]
  },
  {
   "cell_type": "markdown",
   "metadata": {
    "editable": true
   },
   "source": [
    "#### Insert Records into Users Table\n",
    "Implement the `user_table_insert` query in `sql_queries.py` and run the cell below to insert records for the users in this log file into the `users` table. Remember to run `create_tables.py` before running the cell below to ensure you've created/resetted the `users` table in the sparkify database."
   ]
  },
  {
   "cell_type": "code",
   "execution_count": 20,
   "metadata": {
    "editable": true
   },
   "outputs": [],
   "source": [
    "for i, row in user_df.iterrows():\n",
    "    cur.execute(user_table_insert, row)\n",
    "    conn.commit()"
   ]
  },
  {
   "cell_type": "markdown",
   "metadata": {
    "editable": true
   },
   "source": [
    "Run `test.ipynb` to see if you've successfully added records to this table."
   ]
  },
  {
   "cell_type": "markdown",
   "metadata": {
    "editable": true
   },
   "source": [
    "## #5: `songplays` Table\n",
    "#### Extract Data and Songplays Table\n",
    "This one is a little more complicated since information from the songs table, artists table, and original log file are all needed for the `songplays` table. Since the log file does not specify an ID for either the song or the artist, you'll need to get the song ID and artist ID by querying the songs and artists tables to find matches based on song title, artist name, and song duration time.\n",
    "- Implement the `song_select` query in `sql_queries.py` to find the song ID and artist ID based on the title, artist name, and duration of a song.\n",
    "- Select the timestamp, user ID, level, song ID, artist ID, session ID, location, and user agent and set to `songplay_data`\n",
    "\n",
    "#### Insert Records into Songplays Table\n",
    "- Implement the `songplay_table_insert` query and run the cell below to insert records for the songplay actions in this log file into the `songplays` table. Remember to run `create_tables.py` before running the cell below to ensure you've created/resetted the `songplays` table in the sparkify database."
   ]
  },
  {
   "cell_type": "code",
   "execution_count": 21,
   "metadata": {
    "editable": true
   },
   "outputs": [],
   "source": [
    "for index, row in df.iterrows():\n",
    "\n",
    "    # get songid and artistid from song and artist tables\n",
    "    cur.execute(song_select, (row.song, row.artist, row.length))\n",
    "    results = cur.fetchone()\n",
    "    \n",
    "    if results:\n",
    "        songid, artistid = results\n",
    "    else:\n",
    "        songid, artistid = None, None\n",
    "\n",
    "    # insert songplay record\n",
    "    start_time = pd.to_datetime(row.ts, unit='ms').strftime('%Y-%m-%d %I:%M:%S')\n",
    "    songplay_data = (start_time, row.userId, row.level, str(songid), str(artistid), row.sessionId, row.location, row.userAgent)\n",
    "    cur.execute(songplay_table_insert, songplay_data)\n",
    "    conn.commit()"
   ]
  },
  {
   "cell_type": "markdown",
   "metadata": {
    "editable": true
   },
   "source": [
    "Run `test.ipynb` to see if you've successfully added records to this table."
   ]
  },
  {
   "cell_type": "markdown",
   "metadata": {
    "editable": true
   },
   "source": [
    "# Close Connection to Sparkify Database"
   ]
  },
  {
   "cell_type": "code",
   "execution_count": 22,
   "metadata": {
    "editable": true
   },
   "outputs": [],
   "source": [
    "conn.close()"
   ]
  },
  {
   "cell_type": "markdown",
   "metadata": {
    "editable": true
   },
   "source": [
    "# Implement `etl.py`\n",
    "Use what you've completed in this notebook to implement `etl.py`."
   ]
  },
  {
   "cell_type": "code",
   "execution_count": null,
   "metadata": {
    "editable": true
   },
   "outputs": [],
   "source": []
  }
 ],
 "metadata": {
  "kernelspec": {
   "display_name": "Python 3",
   "language": "python",
   "name": "python3"
  },
  "language_info": {
   "codemirror_mode": {
    "name": "ipython",
    "version": 3
   },
   "file_extension": ".py",
   "mimetype": "text/x-python",
   "name": "python",
   "nbconvert_exporter": "python",
   "pygments_lexer": "ipython3",
   "version": "3.6.3"
  }
 },
 "nbformat": 4,
 "nbformat_minor": 4
}
