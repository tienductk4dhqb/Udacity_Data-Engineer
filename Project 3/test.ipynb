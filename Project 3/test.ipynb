{
 "cells": [
  {
   "cell_type": "code",
   "execution_count": 1,
   "metadata": {
    "editable": true
   },
   "outputs": [],
   "source": [
    "import configparser\n",
    "from datetime import datetime\n",
    "import os\n",
    "import zipfile\n",
    "import pyspark.sql.functions as f\n",
    "from pyspark.sql import types as t\n",
    "from pyspark.sql import SparkSession\n",
    "from pyspark.sql.functions import udf, col\n",
    "from pyspark.sql.functions import year, month, dayofmonth, hour, weekofyear, date_format\n",
    "from zipfile import ZipFile"
   ]
  },
  {
   "cell_type": "code",
   "execution_count": 2,
   "metadata": {
    "editable": true
   },
   "outputs": [],
   "source": [
    "# # extract song-data.zip\n",
    "# with ZipFile('data/song-data.zip', 'r') as zip_ref:\n",
    "#     zip_ref.extractall('data')"
   ]
  },
  {
   "cell_type": "code",
   "execution_count": 3,
   "metadata": {
    "editable": true
   },
   "outputs": [],
   "source": [
    "# # extract log-data.zip\n",
    "# with ZipFile('data/log-data.zip', 'r') as zip_ref:\n",
    "#     zip_ref.extractall('data/log_data')"
   ]
  },
  {
   "cell_type": "code",
   "execution_count": 4,
   "metadata": {
    "editable": true
   },
   "outputs": [],
   "source": [
    "config = configparser.ConfigParser()\n",
    "config.read_file(open('dl.cfg'))\n",
    "\n",
    "os.environ[\"AWS_ACCESS_KEY_ID\"] = config['AWS']['AWS_ACCESS_KEY_ID']\n",
    "os.environ[\"AWS_SECRET_ACCESS_KEY\"] = config['AWS']['AWS_SECRET_ACCESS_KEY']\n",
    "# Read config path file in s3\n",
    "# SONG_DATA = config['AWS']['INPUT_DATA_SONG_DATA']\n",
    "# LOG_DATA = config['AWS']['INPUT_DATA_LOG_DATA']\n",
    "# OUTPUT_DATA = config['AWS']['OUTPUT_DATA']\n",
    "# print(SONG_DATA)\n",
    "# print(os.environ[\"AWS_ACCESS_KEY_ID\"])\n",
    "\n",
    "# Read config path file local\n",
    "SONG_DATA = config['LOCAL']['INPUT_DATA_SONG_DATA_LOCAL']\n",
    "LOG_DATA = config['LOCAL']['INPUT_DATA_LOG_DATA_LOCAL']\n",
    "OUTPUT_DATA = config['LOCAL']['OUTPUT_DATA_LOCAL']"
   ]
  },
  {
   "cell_type": "markdown",
   "metadata": {
    "editable": true
   },
   "source": [
    "# Create spark session with hadoop-aws package"
   ]
  },
  {
   "cell_type": "code",
   "execution_count": 5,
   "metadata": {
    "editable": true
   },
   "outputs": [],
   "source": [
    "def create_spark_session():\n",
    "    spark = SparkSession \\\n",
    "        .builder \\\n",
    "        .config(\"spark.jars.packages\", \"org.apache.hadoop:hadoop-aws:2.7.0\") \\\n",
    "        .getOrCreate()\n",
    "    return spark"
   ]
  },
  {
   "cell_type": "code",
   "execution_count": 6,
   "metadata": {
    "editable": true
   },
   "outputs": [
    {
     "data": {
      "text/html": [
       "\n",
       "            <div>\n",
       "                <p><b>SparkSession - in-memory</b></p>\n",
       "                \n",
       "        <div>\n",
       "            <p><b>SparkContext</b></p>\n",
       "\n",
       "            <p><a href=\"http://24bb3b7eb4a9:4040\">Spark UI</a></p>\n",
       "\n",
       "            <dl>\n",
       "              <dt>Version</dt>\n",
       "                <dd><code>v2.4.3</code></dd>\n",
       "              <dt>Master</dt>\n",
       "                <dd><code>local[*]</code></dd>\n",
       "              <dt>AppName</dt>\n",
       "                <dd><code>pyspark-shell</code></dd>\n",
       "            </dl>\n",
       "        </div>\n",
       "        \n",
       "            </div>\n",
       "        "
      ],
      "text/plain": [
       "<pyspark.sql.session.SparkSession at 0x7fd5739de198>"
      ]
     },
     "execution_count": 6,
     "metadata": {},
     "output_type": "execute_result"
    }
   ],
   "source": [
    "spark = create_spark_session()\n",
    "spark"
   ]
  },
  {
   "cell_type": "markdown",
   "metadata": {
    "editable": true
   },
   "source": [
    "# Load song_data (from JSON to Spark)"
   ]
  },
  {
   "cell_type": "code",
   "execution_count": 7,
   "metadata": {
    "editable": true
   },
   "outputs": [],
   "source": [
    "# Read song_data\n",
    "song_data_path = SONG_DATA\n",
    "# song_data_path = SONG_DATA\n",
    "# df_song_data = spark.read(\"json\").load(\"s3://udacity-dend/song_data/*/*/*/*.json\")\n",
    "# df_song_data = spark.read.json(\"s3://udacity-dend/song_data/A/A/A/*.json\")\n",
    "df_song_data = spark.read.json(song_data_path).dropDuplicates()"
   ]
  },
  {
   "cell_type": "code",
   "execution_count": 8,
   "metadata": {
    "editable": true
   },
   "outputs": [
    {
     "name": "stdout",
     "output_type": "stream",
     "text": [
      "root\n",
      " |-- artist_id: string (nullable = true)\n",
      " |-- artist_latitude: double (nullable = true)\n",
      " |-- artist_location: string (nullable = true)\n",
      " |-- artist_longitude: double (nullable = true)\n",
      " |-- artist_name: string (nullable = true)\n",
      " |-- duration: double (nullable = true)\n",
      " |-- num_songs: long (nullable = true)\n",
      " |-- song_id: string (nullable = true)\n",
      " |-- title: string (nullable = true)\n",
      " |-- year: long (nullable = true)\n",
      "\n",
      "+------------------+---------------+--------------------+----------------+--------------------+---------+---------+------------------+--------------------+----+\n",
      "|         artist_id|artist_latitude|     artist_location|artist_longitude|         artist_name| duration|num_songs|           song_id|               title|year|\n",
      "+------------------+---------------+--------------------+----------------+--------------------+---------+---------+------------------+--------------------+----+\n",
      "|ARPFHN61187FB575F6|       41.88415|         Chicago, IL|       -87.63241|         Lupe Fiasco|279.97995|        1|SOWQTQZ12A58A7B63E|Streets On Fire (...|   0|\n",
      "|AR1Y2PT1187FB5B9CE|       27.94017|             Brandon|       -82.32547|         John Wesley|484.62322|        1|SOLLHMX12AB01846DC|   The Emperor Falls|   0|\n",
      "|AR7G5I41187FB4CE6C|           null|     London, England|            null|            Adam Ant|233.40363|        1|SONHOTT12A8C13493C|     Something Girls|1982|\n",
      "|AR10USD1187B99F3F1|           null|Burlington, Ontar...|            null|Tweeterfriendly M...|189.57016|        1|SOHKNRJ12A6701D1F8|        Drop of Rain|   0|\n",
      "|ARD7TVE1187B99BFB1|           null|     California - LA|            null|              Casual|218.93179|        1|SOMZWCG12A8C13C480|    I Didn't Mean To|   0|\n",
      "+------------------+---------------+--------------------+----------------+--------------------+---------+---------+------------------+--------------------+----+\n",
      "only showing top 5 rows\n",
      "\n"
     ]
    }
   ],
   "source": [
    "df_song_data.printSchema()\n",
    "df_song_data.show(5)"
   ]
  },
  {
   "cell_type": "markdown",
   "metadata": {
    "editable": true
   },
   "source": [
    "# Create (songs_table + artists_table) Tables"
   ]
  },
  {
   "cell_type": "markdown",
   "metadata": {
    "editable": true
   },
   "source": [
    "## Create Songs table + write it to parquet file"
   ]
  },
  {
   "cell_type": "code",
   "execution_count": 9,
   "metadata": {
    "editable": true
   },
   "outputs": [
    {
     "name": "stdout",
     "output_type": "stream",
     "text": [
      "root\n",
      " |-- song_id: string (nullable = true)\n",
      " |-- title: string (nullable = true)\n",
      " |-- artist_id: string (nullable = true)\n",
      " |-- year: long (nullable = true)\n",
      " |-- duration: double (nullable = true)\n",
      "\n",
      "+------------------+--------------------+------------------+----+---------+\n",
      "|           song_id|               title|         artist_id|year| duration|\n",
      "+------------------+--------------------+------------------+----+---------+\n",
      "|SOAOIBZ12AB01815BE|I Hold Your Hand ...|ARPBNLO1187FB3D52F|2000| 43.36281|\n",
      "|SOBAYLL12A8C138AF9|Sono andati? Fing...|ARDR4AC1187FB371A1|   0|511.16363|\n",
      "|SOBBUGU12A8C13E95D|Setting Fire to S...|ARMAC4T1187FB3FA4C|2004|207.77751|\n",
      "|SOBBXLX12A58A79DDA|Erica (2005 Digit...|AREDBBQ1187B98AFF5|   0|138.63138|\n",
      "|SOBCOSW12A8C13D398|  Rumba De Barcelona|AR7SMBG1187B9B9066|   0|218.38322|\n",
      "|SOBEBDG12A58A76D60|        Kassie Jones|ARI3BMM1187FB4255E|   0|220.78649|\n",
      "|SOBKWDJ12A8C13B2F3|Wild Rose (Back 2...|AR36F9J1187FB406F1|   0|230.71302|\n",
      "|SOBLGCN12AB0183212|James (Hold The L...|AR47JEX1187B995D81|1985|124.86485|\n",
      "|SOBONFF12A6D4F84D8|Tonight Will Be A...|ARIK43K1187B9AE54C|1986| 307.3824|\n",
      "|SOBZBAZ12A6D4F8742|      Spanish Grease|AROUOZZ1187B9ABE51|1997|168.25424|\n",
      "+------------------+--------------------+------------------+----+---------+\n",
      "only showing top 10 rows\n",
      "\n"
     ]
    }
   ],
   "source": [
    "df_song_data.createOrReplaceTempView(\"songs_table_df\")\n",
    "songs_table = spark.sql(\"\"\"\n",
    "    SELECT\n",
    "        song_id,\n",
    "        title,\n",
    "        artist_id,\n",
    "        year,\n",
    "        duration\n",
    "    FROM songs_table_df\n",
    "    ORDER BY song_id\n",
    "\"\"\")\n",
    "songs_table.printSchema()\n",
    "songs_table.show(10)"
   ]
  },
  {
   "cell_type": "code",
   "execution_count": 10,
   "metadata": {
    "editable": true
   },
   "outputs": [
    {
     "name": "stdout",
     "output_type": "stream",
     "text": [
      "data/output_data/songs_table_2022-09-11-13-07-50-979773\n"
     ]
    }
   ],
   "source": [
    "# Write DF data to JSON file(s)\n",
    "now = datetime.now().strftime('%Y-%m-%d-%H-%M-%S-%f')\n",
    "songs_table_path = OUTPUT_DATA + \"songs_table\" + \"_\" + now\n",
    "print(songs_table_path)\n",
    "# Partitioning: https://stackoverflow.com/questions/43731679/how-to-save-a-partitioned-parquet-file-in-spark-2-1\n",
    "# this command doesn't have partitioning\n",
    "# songs_table.write.parquet(songs_table_path)\n",
    "# Write DF to Spark parquet file (partitioned by year and artist_id)\n",
    "songs_table.write.partitionBy(\"year\", \"artist_id\").parquet(songs_table_path)"
   ]
  },
  {
   "cell_type": "markdown",
   "metadata": {
    "editable": true
   },
   "source": [
    "## Create Artists table + write it to parquet file"
   ]
  },
  {
   "cell_type": "code",
   "execution_count": 11,
   "metadata": {
    "editable": true
   },
   "outputs": [
    {
     "name": "stdout",
     "output_type": "stream",
     "text": [
      "DataFrame[artist_id: string, artist_latitude: double, artist_location: string, artist_longitude: double, artist_name: string, duration: double, num_songs: bigint, song_id: string, title: string, year: bigint]\n",
      "root\n",
      " |-- artist_id: string (nullable = true)\n",
      " |-- name: string (nullable = true)\n",
      " |-- location: string (nullable = true)\n",
      " |-- latitude: double (nullable = true)\n",
      " |-- longitude: double (nullable = true)\n",
      "\n",
      "+------------------+------------------+--------------+--------+---------+\n",
      "|artist_id         |name              |location      |latitude|longitude|\n",
      "+------------------+------------------+--------------+--------+---------+\n",
      "|ARYKCQI1187FB3B18F|Tesla             |              |null    |null     |\n",
      "|ARXR32B1187FB57099|Gob               |              |null    |null     |\n",
      "|ARWB3G61187FB49404|Steve Morse       |Hamilton, Ohio|null    |null     |\n",
      "|ARVBRGZ1187FB4675A|Gwen Stefani      |              |null    |null     |\n",
      "|ARULZCI1241B9C8611|Luna Orbit Project|              |null    |null     |\n",
      "+------------------+------------------+--------------+--------+---------+\n",
      "only showing top 5 rows\n",
      "\n"
     ]
    }
   ],
   "source": [
    "df_song_data.createOrReplaceTempView(\"artists_table_df\")\n",
    "print(df_song_data)\n",
    "artists_table = spark.sql(\"\"\"\n",
    "    SELECT\n",
    "        artist_id as artist_id,\n",
    "        artist_name as name,\n",
    "        artist_location as location,\n",
    "        artist_latitude as latitude,\n",
    "        artist_longitude as longitude\n",
    "    FROM artists_table_df\n",
    "    ORDER BY artist_id DESC\n",
    "\"\"\")\n",
    "artists_table.printSchema()\n",
    "artists_table.show(5, truncate=False)"
   ]
  },
  {
   "cell_type": "code",
   "execution_count": 12,
   "metadata": {
    "editable": true
   },
   "outputs": [],
   "source": [
    "# Write DF to Spark parquet file\n",
    "now = datetime.now().strftime('%Y-%m-%d-%H-%M-%S-%f')\n",
    "artists_table_path = OUTPUT_DATA + \"artists_table.parquet\" + \"_\" + now\n",
    "artists_table.write.parquet(artists_table_path)"
   ]
  },
  {
   "cell_type": "markdown",
   "metadata": {
    "editable": true
   },
   "source": [
    "# Load log_data(from Json to Spark)"
   ]
  },
  {
   "cell_type": "code",
   "execution_count": 13,
   "metadata": {
    "editable": true
   },
   "outputs": [],
   "source": [
    "# Read local log_data\n",
    "log_data_path = LOG_DATA\n",
    "df_log_data = spark.read.json(log_data_path).dropDuplicates()"
   ]
  },
  {
   "cell_type": "code",
   "execution_count": 14,
   "metadata": {
    "editable": true
   },
   "outputs": [
    {
     "name": "stdout",
     "output_type": "stream",
     "text": [
      "root\n",
      " |-- artist: string (nullable = true)\n",
      " |-- auth: string (nullable = true)\n",
      " |-- firstName: string (nullable = true)\n",
      " |-- gender: string (nullable = true)\n",
      " |-- itemInSession: long (nullable = true)\n",
      " |-- lastName: string (nullable = true)\n",
      " |-- length: double (nullable = true)\n",
      " |-- level: string (nullable = true)\n",
      " |-- location: string (nullable = true)\n",
      " |-- method: string (nullable = true)\n",
      " |-- page: string (nullable = true)\n",
      " |-- registration: double (nullable = true)\n",
      " |-- sessionId: long (nullable = true)\n",
      " |-- song: string (nullable = true)\n",
      " |-- status: long (nullable = true)\n",
      " |-- ts: long (nullable = true)\n",
      " |-- userAgent: string (nullable = true)\n",
      " |-- userId: string (nullable = true)\n",
      "\n",
      "+-------------+---------+---------+------+-------------+--------+---------+-----+--------------------+------+--------+-----------------+---------+--------------------+------+-------------+--------------------+------+\n",
      "|       artist|     auth|firstName|gender|itemInSession|lastName|   length|level|            location|method|    page|     registration|sessionId|                song|status|           ts|           userAgent|userId|\n",
      "+-------------+---------+---------+------+-------------+--------+---------+-----+--------------------+------+--------+-----------------+---------+--------------------+------+-------------+--------------------+------+\n",
      "|      Fat Joe|Logged In|     Kate|     F|           21| Harrell|241.34485| paid|Lansing-East Lans...|   PUT|NextSong|1.540472624796E12|      605|Safe 2 Say [The I...|   200|1542296032796|\"Mozilla/5.0 (X11...|    97|\n",
      "|  Linkin Park|Logged In|     Kate|     F|           33| Harrell|259.86567| paid|Lansing-East Lans...|   PUT|NextSong|1.540472624796E12|      605|         My December|   200|1542299023796|\"Mozilla/5.0 (X11...|    97|\n",
      "|The Saturdays|Logged In|    Chloe|     F|           20|  Cuevas|176.95302| paid|San Francisco-Oak...|   PUT|NextSong|1.540940782796E12|      630|     If This Is Love|   200|1542318319796|Mozilla/5.0 (Wind...|    49|\n",
      "|  Wim Mertens|Logged In|   Aleena|     F|           71|   Kirby|240.79628| paid|Waterloo-Cedar Fa...|   PUT|NextSong|1.541022995796E12|      619|          Naviamente|   200|1542321121796|Mozilla/5.0 (Maci...|    44|\n",
      "|         null|Logged In|    Tegan|     F|           26|  Levine|     null| paid|Portland-South Po...|   GET|    Home|1.540794356796E12|      774|                null|   200|1542768175796|\"Mozilla/5.0 (Mac...|    80|\n",
      "+-------------+---------+---------+------+-------------+--------+---------+-----+--------------------+------+--------+-----------------+---------+--------------------+------+-------------+--------------------+------+\n",
      "only showing top 5 rows\n",
      "\n"
     ]
    }
   ],
   "source": [
    "df_log_data.printSchema()\n",
    "df_log_data.show(5)"
   ]
  },
  {
   "cell_type": "code",
   "execution_count": 15,
   "metadata": {
    "editable": true
   },
   "outputs": [
    {
     "name": "stdout",
     "output_type": "stream",
     "text": [
      "+--------------------+----------+---------+------+-------------+---------+---------+-----+--------------------+------+--------+-----------------+---------+--------------------+------+-------------+--------------------+------+\n",
      "|              artist|      auth|firstName|gender|itemInSession| lastName|   length|level|            location|method|    page|     registration|sessionId|                song|status|           ts|           userAgent|userId|\n",
      "+--------------------+----------+---------+------+-------------+---------+---------+-----+--------------------+------+--------+-----------------+---------+--------------------+------+-------------+--------------------+------+\n",
      "|             Fat Joe| Logged In|     Kate|     F|           21|  Harrell|241.34485| paid|Lansing-East Lans...|   PUT|NextSong|1.540472624796E12|      605|Safe 2 Say [The I...|   200|1542296032796|\"Mozilla/5.0 (X11...|    97|\n",
      "|         Linkin Park| Logged In|     Kate|     F|           33|  Harrell|259.86567| paid|Lansing-East Lans...|   PUT|NextSong|1.540472624796E12|      605|         My December|   200|1542299023796|\"Mozilla/5.0 (X11...|    97|\n",
      "|       The Saturdays| Logged In|    Chloe|     F|           20|   Cuevas|176.95302| paid|San Francisco-Oak...|   PUT|NextSong|1.540940782796E12|      630|     If This Is Love|   200|1542318319796|Mozilla/5.0 (Wind...|    49|\n",
      "|         Wim Mertens| Logged In|   Aleena|     F|           71|    Kirby|240.79628| paid|Waterloo-Cedar Fa...|   PUT|NextSong|1.541022995796E12|      619|          Naviamente|   200|1542321121796|Mozilla/5.0 (Maci...|    44|\n",
      "|                null| Logged In|    Tegan|     F|           26|   Levine|     null| paid|Portland-South Po...|   GET|    Home|1.540794356796E12|      774|                null|   200|1542768175796|\"Mozilla/5.0 (Mac...|    80|\n",
      "|                null| Logged In| Mohammad|     M|            0|Rodriguez|     null| paid|Sacramento--Rosev...|   GET|    Home|1.540511766796E12|      744|                null|   200|1542786024796|\"Mozilla/5.0 (Mac...|    88|\n",
      "|  The Avett Brothers| Logged In| Mohammad|     M|            1|Rodriguez| 271.0722| paid|Sacramento--Rosev...|   PUT|NextSong|1.540511766796E12|      744|   The Perfect Space|   200|1542786093796|\"Mozilla/5.0 (Mac...|    88|\n",
      "|      In This Moment| Logged In| Mohammad|     M|           12|Rodriguez|226.40281| paid|Sacramento--Rosev...|   PUT|NextSong|1.540511766796E12|      744|             Prayers|   200|1542788517796|\"Mozilla/5.0 (Mac...|    88|\n",
      "|             Unearth| Logged In|     Kate|     F|            0|  Harrell|283.58485| paid|Lansing-East Lans...|   PUT|NextSong|1.540472624796E12|      817|          Letting Go|   200|1542821528796|\"Mozilla/5.0 (X11...|    97|\n",
      "|      La Monja Enana| Logged In|     Kate|     F|           43|  Harrell|144.43057| paid|Lansing-East Lans...|   PUT|NextSong|1.540472624796E12|      817|    VillapingÃÂ¼ino|   200|1542830828796|\"Mozilla/5.0 (X11...|    97|\n",
      "|                 AFI| Logged In|     Lily|     F|           32|     Koch|328.72444| paid|Chicago-Napervill...|   PUT|NextSong|1.541048010796E12|      818|          Affliction|   200|1542843391796|\"Mozilla/5.0 (X11...|    15|\n",
      "|        Nickel Creek| Logged In|    Tegan|     F|           36|   Levine|187.55873| paid|Portland-South Po...|   PUT|NextSong|1.540794356796E12|      548|  Scotch & Chocolate|   200|1542172547796|\"Mozilla/5.0 (Mac...|    80|\n",
      "|  El Cuarteto De Nos| Logged In|    Emily|     F|           27|   Benson| 280.2673| paid|Augusta-Richmond ...|   PUT|NextSong|1.540907087796E12|      522|      Hoy Estoy Raro|   200|1542188822796|\"Mozilla/5.0 (Win...|    58|\n",
      "|                null|Logged Out|     null|  null|            0|     null|     null| free|                null|   PUT|   Login|             null|      216|                null|   307|1542209250796|                null|      |\n",
      "|          Biz Markie| Logged In|    Chloe|     F|           13|   Cuevas|314.14812| paid|San Francisco-Oak...|   PUT|NextSong|1.540940782796E12|      576|This Is Something...|   200|1542238013796|Mozilla/5.0 (Wind...|    49|\n",
      "|           The Verve| Logged In|   Martin|     M|            5|  Johnson|360.25424| free|Minneapolis-St. P...|   PUT|NextSong|1.541081807796E12|      415|Bitter Sweet Symp...|   200|1542148779796|\"Mozilla/5.0 (Mac...|    55|\n",
      "|   59 Times the Pain| Logged In|     Ryan|     M|            7|    Smith|144.95302| free|San Jose-Sunnyval...|   PUT|NextSong|1.541016707796E12|     1068|          Found Home|   200|1543551890796|\"Mozilla/5.0 (X11...|    26|\n",
      "|                null| Logged In|  Cecilia|     F|            0|    Owens|     null| free|Atlanta-Sandy Spr...|   GET|    Home|1.541032432796E12|      735|                null|   200|1542701038796|Mozilla/5.0 (Wind...|     6|\n",
      "|   Animal Collective| Logged In|     Ryan|     M|            0|    Smith| 322.0371| free|San Jose-Sunnyval...|   PUT|NextSong|1.541016707796E12|      767|      In The Flowers|   200|1542732730796|\"Mozilla/5.0 (X11...|    26|\n",
      "|Yonder Mountain S...| Logged In|  Kinsley|     F|           28|    Young|297.58649| paid|       Red Bluff, CA|   PUT|NextSong|1.540465241796E12|      776|     Boatman's Dance|   200|1542748154796|\"Mozilla/5.0 (Mac...|    85|\n",
      "+--------------------+----------+---------+------+-------------+---------+---------+-----+--------------------+------+--------+-----------------+---------+--------------------+------+-------------+--------------------+------+\n",
      "only showing top 20 rows\n",
      "\n"
     ]
    }
   ],
   "source": [
    "# Filter record page = 'NextSong'\n",
    "df_log_data_filtered = df_log_data.filter(df_log_data.page == 'NextSong')\n",
    "df_log_data.show(20)"
   ]
  },
  {
   "cell_type": "markdown",
   "metadata": {
    "editable": true
   },
   "source": [
    "# Create users_table, times_table, songplays_table table"
   ]
  },
  {
   "cell_type": "markdown",
   "metadata": {
    "editable": true
   },
   "source": [
    "## Create User Table + write it to parquet file"
   ]
  },
  {
   "cell_type": "code",
   "execution_count": 16,
   "metadata": {
    "editable": true
   },
   "outputs": [
    {
     "name": "stdout",
     "output_type": "stream",
     "text": [
      "root\n",
      " |-- user_id: string (nullable = true)\n",
      " |-- first_name: string (nullable = true)\n",
      " |-- last_name: string (nullable = true)\n",
      " |-- gender: string (nullable = true)\n",
      " |-- level: string (nullable = true)\n",
      "\n",
      "+-------+----------+---------+------+-----+\n",
      "|user_id|first_name|last_name|gender|level|\n",
      "+-------+----------+---------+------+-----+\n",
      "|     66|     Kevin| Arellano|     M| free|\n",
      "|     34|    Evelin|    Ayala|     F| free|\n",
      "|     99|       Ann|    Banks|     F| free|\n",
      "|    100|     Adler|  Barrera|     M| free|\n",
      "|     42|    Harper|  Barrett|     M| paid|\n",
      "|     91|    Jayden|     Bell|     M| free|\n",
      "|      2|   Jizelle| Benjamin|     F| free|\n",
      "|     58|     Emily|   Benson|     F| paid|\n",
      "|     72|    Hayden|    Brock|     F| paid|\n",
      "|     51|      Maia|    Burke|     F| free|\n",
      "|     32|      Lily|    Burns|     F| free|\n",
      "|     90|    Andrea|   Butler|     F| free|\n",
      "|     64|    Hannah|  Calhoun|     F| free|\n",
      "|     27|    Carlos|   Carter|     M| free|\n",
      "|     94|      Noah|   Chavez|     M| free|\n",
      "|     41|   Brayden|    Clark|     M| free|\n",
      "|     81|    Sienna|    Colon|     F| free|\n",
      "|     54|     Kaleb|     Cook|     M| free|\n",
      "|     59|      Lily|   Cooper|     F| free|\n",
      "|     10|    Sylvie|     Cruz|     F| free|\n",
      "+-------+----------+---------+------+-----+\n",
      "only showing top 20 rows\n",
      "\n"
     ]
    }
   ],
   "source": [
    "df_log_data_filtered.createOrReplaceTempView(\"users_table_df\")\n",
    "users_table = spark.sql(\"\"\"\n",
    "    SELECT DISTINCT \n",
    "        userId as user_id,\n",
    "        firstName as first_name,\n",
    "        lastName as last_name,\n",
    "        gender,\n",
    "        level\n",
    "    FROM users_table_df\n",
    "    ORDER BY last_name\n",
    "\"\"\")\n",
    "users_table.printSchema()\n",
    "users_table.show(20)"
   ]
  },
  {
   "cell_type": "code",
   "execution_count": 17,
   "metadata": {
    "editable": true
   },
   "outputs": [
    {
     "name": "stdout",
     "output_type": "stream",
     "text": [
      "data/output_data/user_table.parquet_2022-09-11-13-08-25-949947\n"
     ]
    }
   ],
   "source": [
    "# Write DF to Spark parquet file\n",
    "now = datetime.now().strftime('%Y-%m-%d-%H-%M-%S-%f')\n",
    "users_table_path = OUTPUT_DATA + \"user_table.parquet\" + \"_\" + now\n",
    "print(users_table_path)\n",
    "users_table.write.parquet(users_table_path)"
   ]
  },
  {
   "cell_type": "markdown",
   "metadata": {
    "editable": true
   },
   "source": [
    "## Create Times Table + write it to parquet file"
   ]
  },
  {
   "cell_type": "markdown",
   "metadata": {
    "editable": true
   },
   "source": [
    "## Create timestamp column"
   ]
  },
  {
   "cell_type": "code",
   "execution_count": 18,
   "metadata": {
    "editable": true
   },
   "outputs": [
    {
     "name": "stdout",
     "output_type": "stream",
     "text": [
      "root\n",
      " |-- artist: string (nullable = true)\n",
      " |-- auth: string (nullable = true)\n",
      " |-- firstName: string (nullable = true)\n",
      " |-- gender: string (nullable = true)\n",
      " |-- itemInSession: long (nullable = true)\n",
      " |-- lastName: string (nullable = true)\n",
      " |-- length: double (nullable = true)\n",
      " |-- level: string (nullable = true)\n",
      " |-- location: string (nullable = true)\n",
      " |-- method: string (nullable = true)\n",
      " |-- page: string (nullable = true)\n",
      " |-- registration: double (nullable = true)\n",
      " |-- sessionId: long (nullable = true)\n",
      " |-- song: string (nullable = true)\n",
      " |-- status: long (nullable = true)\n",
      " |-- ts: long (nullable = true)\n",
      " |-- userAgent: string (nullable = true)\n",
      " |-- userId: string (nullable = true)\n",
      " |-- timestamp: timestamp (nullable = true)\n",
      "\n",
      "+------------------+---------+---------+------+-------------+---------+---------+-----+---------------------------------------+------+--------+-----------------+---------+-----------------------------------------------------+------+-------------+--------------------------------------------------------------------------------------------------------------------------+------+-----------------------+\n",
      "|artist            |auth     |firstName|gender|itemInSession|lastName |length   |level|location                               |method|page    |registration     |sessionId|song                                                 |status|ts           |userAgent                                                                                                                 |userId|timestamp              |\n",
      "+------------------+---------+---------+------+-------------+---------+---------+-----+---------------------------------------+------+--------+-----------------+---------+-----------------------------------------------------+------+-------------+--------------------------------------------------------------------------------------------------------------------------+------+-----------------------+\n",
      "|Fat Joe           |Logged In|Kate     |F     |21           |Harrell  |241.34485|paid |Lansing-East Lansing, MI               |PUT   |NextSong|1.540472624796E12|605      |Safe 2 Say [The Incredible] (Album Version - Amended)|200   |1542296032796|\"Mozilla/5.0 (X11; Linux x86_64) AppleWebKit/537.36 (KHTML, like Gecko) Chrome/37.0.2062.94 Safari/537.36\"                |97    |2018-11-15 15:33:52.796|\n",
      "|Linkin Park       |Logged In|Kate     |F     |33           |Harrell  |259.86567|paid |Lansing-East Lansing, MI               |PUT   |NextSong|1.540472624796E12|605      |My December                                          |200   |1542299023796|\"Mozilla/5.0 (X11; Linux x86_64) AppleWebKit/537.36 (KHTML, like Gecko) Chrome/37.0.2062.94 Safari/537.36\"                |97    |2018-11-15 16:23:43.796|\n",
      "|The Saturdays     |Logged In|Chloe    |F     |20           |Cuevas   |176.95302|paid |San Francisco-Oakland-Hayward, CA      |PUT   |NextSong|1.540940782796E12|630      |If This Is Love                                      |200   |1542318319796|Mozilla/5.0 (Windows NT 5.1; rv:31.0) Gecko/20100101 Firefox/31.0                                                         |49    |2018-11-15 21:45:19.796|\n",
      "|Wim Mertens       |Logged In|Aleena   |F     |71           |Kirby    |240.79628|paid |Waterloo-Cedar Falls, IA               |PUT   |NextSong|1.541022995796E12|619      |Naviamente                                           |200   |1542321121796|Mozilla/5.0 (Macintosh; Intel Mac OS X 10.9; rv:31.0) Gecko/20100101 Firefox/31.0                                         |44    |2018-11-15 22:32:01.796|\n",
      "|The Avett Brothers|Logged In|Mohammad |M     |1            |Rodriguez|271.0722 |paid |Sacramento--Roseville--Arden-Arcade, CA|PUT   |NextSong|1.540511766796E12|744      |The Perfect Space                                    |200   |1542786093796|\"Mozilla/5.0 (Macintosh; Intel Mac OS X 10_9_4) AppleWebKit/537.36 (KHTML, like Gecko) Chrome/36.0.1985.143 Safari/537.36\"|88    |2018-11-21 07:41:33.796|\n",
      "+------------------+---------+---------+------+-------------+---------+---------+-----+---------------------------------------+------+--------+-----------------+---------+-----------------------------------------------------+------+-------------+--------------------------------------------------------------------------------------------------------------------------+------+-----------------------+\n",
      "only showing top 5 rows\n",
      "\n"
     ]
    }
   ],
   "source": [
    "# Create a new column with timestamp\n",
    "@udf(t.TimestampType())\n",
    "def get_timestamp (ts):\n",
    "    return datetime.fromtimestamp(ts / 1000.0)\n",
    "    \n",
    "df_log_data_filtered = df_log_data_filtered.withColumn(\"timestamp\", get_timestamp(\"ts\"))\n",
    "                    \n",
    "\n",
    "df_log_data_filtered.printSchema()\n",
    "df_log_data_filtered.show(5, truncate=False)"
   ]
  },
  {
   "cell_type": "code",
   "execution_count": 19,
   "metadata": {
    "editable": true
   },
   "outputs": [],
   "source": [
    "# df_log_data_filtered.select('timestamp',).limit(5).collect()"
   ]
  },
  {
   "cell_type": "markdown",
   "metadata": {
    "editable": true
   },
   "source": [
    "## Create datetime column"
   ]
  },
  {
   "cell_type": "code",
   "execution_count": 20,
   "metadata": {
    "editable": true
   },
   "outputs": [
    {
     "name": "stdout",
     "output_type": "stream",
     "text": [
      "root\n",
      " |-- artist: string (nullable = true)\n",
      " |-- auth: string (nullable = true)\n",
      " |-- firstName: string (nullable = true)\n",
      " |-- gender: string (nullable = true)\n",
      " |-- itemInSession: long (nullable = true)\n",
      " |-- lastName: string (nullable = true)\n",
      " |-- length: double (nullable = true)\n",
      " |-- level: string (nullable = true)\n",
      " |-- location: string (nullable = true)\n",
      " |-- method: string (nullable = true)\n",
      " |-- page: string (nullable = true)\n",
      " |-- registration: double (nullable = true)\n",
      " |-- sessionId: long (nullable = true)\n",
      " |-- song: string (nullable = true)\n",
      " |-- status: long (nullable = true)\n",
      " |-- ts: long (nullable = true)\n",
      " |-- userAgent: string (nullable = true)\n",
      " |-- userId: string (nullable = true)\n",
      " |-- timestamp: timestamp (nullable = true)\n",
      " |-- datetime: string (nullable = true)\n",
      "\n",
      "+------------------+---------+---------+------+-------------+---------+---------+-----+---------------------------------------+------+--------+-----------------+---------+-----------------------------------------------------+------+-------------+--------------------------------------------------------------------------------------------------------------------------+------+-----------------------+-------------------+\n",
      "|artist            |auth     |firstName|gender|itemInSession|lastName |length   |level|location                               |method|page    |registration     |sessionId|song                                                 |status|ts           |userAgent                                                                                                                 |userId|timestamp              |datetime           |\n",
      "+------------------+---------+---------+------+-------------+---------+---------+-----+---------------------------------------+------+--------+-----------------+---------+-----------------------------------------------------+------+-------------+--------------------------------------------------------------------------------------------------------------------------+------+-----------------------+-------------------+\n",
      "|Fat Joe           |Logged In|Kate     |F     |21           |Harrell  |241.34485|paid |Lansing-East Lansing, MI               |PUT   |NextSong|1.540472624796E12|605      |Safe 2 Say [The Incredible] (Album Version - Amended)|200   |1542296032796|\"Mozilla/5.0 (X11; Linux x86_64) AppleWebKit/537.36 (KHTML, like Gecko) Chrome/37.0.2062.94 Safari/537.36\"                |97    |2018-11-15 15:33:52.796|2018-11-15 15:33:52|\n",
      "|Linkin Park       |Logged In|Kate     |F     |33           |Harrell  |259.86567|paid |Lansing-East Lansing, MI               |PUT   |NextSong|1.540472624796E12|605      |My December                                          |200   |1542299023796|\"Mozilla/5.0 (X11; Linux x86_64) AppleWebKit/537.36 (KHTML, like Gecko) Chrome/37.0.2062.94 Safari/537.36\"                |97    |2018-11-15 16:23:43.796|2018-11-15 16:23:43|\n",
      "|The Saturdays     |Logged In|Chloe    |F     |20           |Cuevas   |176.95302|paid |San Francisco-Oakland-Hayward, CA      |PUT   |NextSong|1.540940782796E12|630      |If This Is Love                                      |200   |1542318319796|Mozilla/5.0 (Windows NT 5.1; rv:31.0) Gecko/20100101 Firefox/31.0                                                         |49    |2018-11-15 21:45:19.796|2018-11-15 21:45:19|\n",
      "|Wim Mertens       |Logged In|Aleena   |F     |71           |Kirby    |240.79628|paid |Waterloo-Cedar Falls, IA               |PUT   |NextSong|1.541022995796E12|619      |Naviamente                                           |200   |1542321121796|Mozilla/5.0 (Macintosh; Intel Mac OS X 10.9; rv:31.0) Gecko/20100101 Firefox/31.0                                         |44    |2018-11-15 22:32:01.796|2018-11-15 22:32:01|\n",
      "|The Avett Brothers|Logged In|Mohammad |M     |1            |Rodriguez|271.0722 |paid |Sacramento--Roseville--Arden-Arcade, CA|PUT   |NextSong|1.540511766796E12|744      |The Perfect Space                                    |200   |1542786093796|\"Mozilla/5.0 (Macintosh; Intel Mac OS X 10_9_4) AppleWebKit/537.36 (KHTML, like Gecko) Chrome/36.0.1985.143 Safari/537.36\"|88    |2018-11-21 07:41:33.796|2018-11-21 07:41:33|\n",
      "+------------------+---------+---------+------+-------------+---------+---------+-----+---------------------------------------+------+--------+-----------------+---------+-----------------------------------------------------+------+-------------+--------------------------------------------------------------------------------------------------------------------------+------+-----------------------+-------------------+\n",
      "only showing top 5 rows\n",
      "\n"
     ]
    }
   ],
   "source": [
    "# Create a new column with datetime\n",
    "@udf(t.StringType())\n",
    "def get_datetime(ts):\n",
    "    return datetime.fromtimestamp(ts / 1000.0).strftime('%Y-%m-%d %H:%M:%S')\n",
    "\n",
    "df_log_data_filtered = df_log_data_filtered.withColumn(\"datetime\", get_datetime(\"ts\"))\n",
    "df_log_data_filtered.printSchema()\n",
    "df_log_data_filtered.show(5, truncate=False)"
   ]
  },
  {
   "cell_type": "code",
   "execution_count": 21,
   "metadata": {
    "editable": true
   },
   "outputs": [
    {
     "name": "stdout",
     "output_type": "stream",
     "text": [
      "root\n",
      " |-- start_time: string (nullable = true)\n",
      " |-- hour: integer (nullable = true)\n",
      " |-- day: integer (nullable = true)\n",
      " |-- week: integer (nullable = true)\n",
      " |-- month: integer (nullable = true)\n",
      " |-- year: integer (nullable = true)\n",
      " |-- weekday: integer (nullable = true)\n",
      "\n",
      "+-------------------+----+---+----+-----+----+-------+\n",
      "|start_time         |hour|day|week|month|year|weekday|\n",
      "+-------------------+----+---+----+-----+----+-------+\n",
      "|2018-11-01 21:01:46|21  |1  |44  |11   |2018|5      |\n",
      "|2018-11-01 21:05:52|21  |1  |44  |11   |2018|5      |\n",
      "|2018-11-01 21:08:16|21  |1  |44  |11   |2018|5      |\n",
      "|2018-11-01 21:11:13|21  |1  |44  |11   |2018|5      |\n",
      "|2018-11-01 21:17:33|21  |1  |44  |11   |2018|5      |\n",
      "+-------------------+----+---+----+-----+----+-------+\n",
      "only showing top 5 rows\n",
      "\n"
     ]
    }
   ],
   "source": [
    "df_log_data_filtered.createOrReplaceTempView(\"time_table_df\")\n",
    "time_table = spark.sql(\"\"\"\n",
    "    SELECT  DISTINCT \n",
    "        datetime AS start_time, \n",
    "        hour(timestamp) AS hour, \n",
    "        day(timestamp)  AS day, \n",
    "        weekofyear(timestamp) AS week,\n",
    "        month(timestamp) AS month,\n",
    "        year(timestamp) AS year,\n",
    "        dayofweek(timestamp) AS weekday\n",
    "    FROM time_table_df\n",
    "    ORDER BY start_time\n",
    "\"\"\")\n",
    "time_table.printSchema()\n",
    "time_table.show(5, truncate=False)"
   ]
  },
  {
   "cell_type": "code",
   "execution_count": 23,
   "metadata": {
    "editable": true
   },
   "outputs": [
    {
     "name": "stdout",
     "output_type": "stream",
     "text": [
      "data/output_data/times_table.parquet_2022-09-11-13-18-34-141764\n"
     ]
    }
   ],
   "source": [
    "# Write DF to Spark parquet file\n",
    "now = datetime.now().strftime('%Y-%m-%d-%H-%M-%S-%f')\n",
    "time_table_path = OUTPUT_DATA + \"times_table.parquet\" + \"_\" + now\n",
    "print(time_table_path)\n",
    "# time_table.write.parquet(time_table_path)\n",
    "time_table.write.mode(\"overwrite\").partitionBy(\"year\", \"month\")\\\n",
    "            .parquet(time_table_path)"
   ]
  },
  {
   "cell_type": "markdown",
   "metadata": {
    "editable": true
   },
   "source": [
    "# Create songplays table + write it to parquet file"
   ]
  },
  {
   "cell_type": "markdown",
   "metadata": {
    "editable": true
   },
   "source": [
    "## Join song_data and log_data"
   ]
  },
  {
   "cell_type": "code",
   "execution_count": 24,
   "metadata": {
    "editable": true
   },
   "outputs": [
    {
     "name": "stdout",
     "output_type": "stream",
     "text": [
      "root\n",
      " |-- artist: string (nullable = true)\n",
      " |-- auth: string (nullable = true)\n",
      " |-- firstName: string (nullable = true)\n",
      " |-- gender: string (nullable = true)\n",
      " |-- itemInSession: long (nullable = true)\n",
      " |-- lastName: string (nullable = true)\n",
      " |-- length: double (nullable = true)\n",
      " |-- level: string (nullable = true)\n",
      " |-- location: string (nullable = true)\n",
      " |-- method: string (nullable = true)\n",
      " |-- page: string (nullable = true)\n",
      " |-- registration: double (nullable = true)\n",
      " |-- sessionId: long (nullable = true)\n",
      " |-- song: string (nullable = true)\n",
      " |-- status: long (nullable = true)\n",
      " |-- ts: long (nullable = true)\n",
      " |-- userAgent: string (nullable = true)\n",
      " |-- userId: string (nullable = true)\n",
      " |-- timestamp: timestamp (nullable = true)\n",
      " |-- datetime: string (nullable = true)\n",
      " |-- artist_id: string (nullable = true)\n",
      " |-- artist_latitude: double (nullable = true)\n",
      " |-- artist_location: string (nullable = true)\n",
      " |-- artist_longitude: double (nullable = true)\n",
      " |-- artist_name: string (nullable = true)\n",
      " |-- duration: double (nullable = true)\n",
      " |-- num_songs: long (nullable = true)\n",
      " |-- song_id: string (nullable = true)\n",
      " |-- title: string (nullable = true)\n",
      " |-- year: long (nullable = true)\n",
      "\n",
      "+------+---------+---------+------+-------------+--------+---------+-----+----------------------------------+------+--------+-----------------+---------+--------------+------+-------------+-----------------------------------------------------------------------------------------------------------------------------------------+------+-----------------------+-------------------+------------------+---------------+---------------+----------------+-----------+---------+---------+------------------+--------------+----+\n",
      "|artist|auth     |firstName|gender|itemInSession|lastName|length   |level|location                          |method|page    |registration     |sessionId|song          |status|ts           |userAgent                                                                                                                                |userId|timestamp              |datetime           |artist_id         |artist_latitude|artist_location|artist_longitude|artist_name|duration |num_songs|song_id           |title         |year|\n",
      "+------+---------+---------+------+-------------+--------+---------+-----+----------------------------------+------+--------+-----------------+---------+--------------+------+-------------+-----------------------------------------------------------------------------------------------------------------------------------------+------+-----------------------+-------------------+------------------+---------------+---------------+----------------+-----------+---------+---------+------------------+--------------+----+\n",
      "|Elena |Logged In|Lily     |F     |5            |Koch    |269.58322|paid |Chicago-Naperville-Elgin, IL-IN-WI|PUT   |NextSong|1.541048010796E12|818      |Setanta matins|200   |1542837407796|\"Mozilla/5.0 (X11; Linux x86_64) AppleWebKit/537.36 (KHTML, like Gecko) Ubuntu Chromium/36.0.1985.125 Chrome/36.0.1985.125 Safari/537.36\"|15    |2018-11-21 21:56:47.796|2018-11-21 21:56:47|AR5KOSW1187FB35FF4|49.80388       |Dubai UAE      |15.47491        |Elena      |269.58322|1        |SOZCTXZ12AB0182364|Setanta matins|0   |\n",
      "+------+---------+---------+------+-------------+--------+---------+-----+----------------------------------+------+--------+-----------------+---------+--------------+------+-------------+-----------------------------------------------------------------------------------------------------------------------------------------+------+-----------------------+-------------------+------------------+---------------+---------------+----------------+-----------+---------+---------+------------------+--------------+----+\n",
      "\n"
     ]
    }
   ],
   "source": [
    "df_ld_sd_joined = df_log_data_filtered.join(df_song_data, (df_log_data_filtered.artist == df_song_data.artist_name) & (df_log_data_filtered.song == df_song_data.title))\n",
    "df_ld_sd_joined.printSchema()\n",
    "df_ld_sd_joined.show(5, truncate=False)"
   ]
  },
  {
   "cell_type": "code",
   "execution_count": 25,
   "metadata": {
    "editable": true
   },
   "outputs": [
    {
     "name": "stdout",
     "output_type": "stream",
     "text": [
      "root\n",
      " |-- songplay_id: long (nullable = false)\n",
      " |-- start_time: timestamp (nullable = true)\n",
      " |-- user_id: string (nullable = true)\n",
      " |-- level: string (nullable = true)\n",
      " |-- song_id: string (nullable = true)\n",
      " |-- artist_id: string (nullable = true)\n",
      " |-- session_id: long (nullable = true)\n",
      " |-- location: string (nullable = true)\n",
      " |-- user_agent: string (nullable = true)\n",
      "\n",
      "+------------+-----------------------+-------+-----+------------------+------------------+----------+----------------------------------+-----------------------------------------------------------------------------------------------------------------------------------------+\n",
      "|songplay_id |start_time             |user_id|level|song_id           |artist_id         |session_id|location                          |user_agent                                                                                                                               |\n",
      "+------------+-----------------------+-------+-----+------------------+------------------+----------+----------------------------------+-----------------------------------------------------------------------------------------------------------------------------------------+\n",
      "|188978561024|2018-11-21 21:56:47.796|15     |paid |SOZCTXZ12AB0182364|AR5KOSW1187FB35FF4|818       |Chicago-Naperville-Elgin, IL-IN-WI|\"Mozilla/5.0 (X11; Linux x86_64) AppleWebKit/537.36 (KHTML, like Gecko) Ubuntu Chromium/36.0.1985.125 Chrome/36.0.1985.125 Safari/537.36\"|\n",
      "+------------+-----------------------+-------+-----+------------------+------------------+----------+----------------------------------+-----------------------------------------------------------------------------------------------------------------------------------------+\n",
      "\n"
     ]
    }
   ],
   "source": [
    "df_ld_sd_joined = df_ld_sd_joined.withColumn(\"songplay_id\", f.monotonically_increasing_id())\n",
    "df_ld_sd_joined.createOrReplaceTempView(\"songplays_table_df\")\n",
    "songplays_table = spark.sql(\"\"\"\n",
    "    SELECT\n",
    "        songplay_id as songplay_id,\n",
    "        timestamp as start_time,\n",
    "        userId as user_id,\n",
    "        level,\n",
    "        song_id,\n",
    "        artist_id,\n",
    "        sessionId as session_id,\n",
    "        location,\n",
    "        userAgent as user_agent\n",
    "    FROM songplays_table_df\n",
    "    ORDER BY (user_id, session_id) \n",
    "\"\"\")\n",
    "\n",
    "songplays_table.printSchema()\n",
    "songplays_table.show(5, truncate=False)"
   ]
  },
  {
   "cell_type": "code",
   "execution_count": 29,
   "metadata": {
    "editable": true
   },
   "outputs": [
    {
     "name": "stdout",
     "output_type": "stream",
     "text": [
      "data/output_data/songplays_table.parquet_2022-09-11-13-23-27-330197\n"
     ]
    }
   ],
   "source": [
    "# Write DF to Spark parquet file\n",
    "now = datetime.now().strftime('%Y-%m-%d-%H-%M-%S-%f')\n",
    "songplays_table_path = OUTPUT_DATA + \"songplays_table.parquet\" + \"_\" + now\n",
    "print(songplays_table_path)\n",
    "# songplays_table.write.parquet(songplays_table_path)\n",
    "time_table.write.mode(\"overwrite\").partitionBy(\"year\", \"month\").\\\n",
    "    parquet(songplays_table_path)"
   ]
  },
  {
   "cell_type": "code",
   "execution_count": 32,
   "metadata": {
    "editable": true
   },
   "outputs": [
    {
     "name": "stdout",
     "output_type": "stream",
     "text": [
      "Requirement already satisfied: pytest-shutil in /opt/conda/lib/python3.6/site-packages (1.7.0)\n",
      "Requirement already satisfied: mock in /opt/conda/lib/python3.6/site-packages (from pytest-shutil) (2.0.0)\n",
      "Requirement already satisfied: termcolor in /opt/conda/lib/python3.6/site-packages (from pytest-shutil) (1.1.0)\n",
      "Requirement already satisfied: execnet in /opt/conda/lib/python3.6/site-packages (from pytest-shutil) (1.9.0)\n",
      "Requirement already satisfied: contextlib2 in /opt/conda/lib/python3.6/site-packages (from pytest-shutil) (21.6.0)\n",
      "Requirement already satisfied: path.py in /opt/conda/lib/python3.6/site-packages (from pytest-shutil) (12.5.0)\n",
      "Requirement already satisfied: pytest in /opt/conda/lib/python3.6/site-packages (from pytest-shutil) (4.5.0)\n",
      "Requirement already satisfied: six in /opt/conda/lib/python3.6/site-packages (from pytest-shutil) (1.11.0)\n",
      "Requirement already satisfied: pbr>=0.11 in /opt/conda/lib/python3.6/site-packages (from mock->pytest-shutil) (3.1.1)\n",
      "Requirement already satisfied: path in /opt/conda/lib/python3.6/site-packages (from path.py->pytest-shutil) (16.2.0)\n",
      "Requirement already satisfied: attrs>=17.4.0 in /opt/conda/lib/python3.6/site-packages (from pytest->pytest-shutil) (19.1.0)\n",
      "Requirement already satisfied: pluggy!=0.10,<1.0,>=0.9 in /opt/conda/lib/python3.6/site-packages (from pytest->pytest-shutil) (0.11.0)\n",
      "Requirement already satisfied: atomicwrites>=1.0 in /opt/conda/lib/python3.6/site-packages (from pytest->pytest-shutil) (1.3.0)\n",
      "Requirement already satisfied: wcwidth in /opt/conda/lib/python3.6/site-packages (from pytest->pytest-shutil) (0.1.7)\n",
      "Requirement already satisfied: more-itertools>=4.0.0; python_version > \"2.7\" in /opt/conda/lib/python3.6/site-packages (from pytest->pytest-shutil) (7.0.0)\n",
      "Requirement already satisfied: setuptools in /opt/conda/lib/python3.6/site-packages (from pytest->pytest-shutil) (38.4.0)\n",
      "Requirement already satisfied: py>=1.5.0 in /opt/conda/lib/python3.6/site-packages (from pytest->pytest-shutil) (1.8.0)\n"
     ]
    }
   ],
   "source": [
    "# # delete folder output_data in workspace\n",
    "# !pip install pytest-shutil\n",
    "# import shutil\n",
    "# shutil.rmtree(\"data/output_data/\", ignore_errors=False, onerror=None)"
   ]
  },
  {
   "cell_type": "code",
   "execution_count": null,
   "metadata": {
    "editable": true
   },
   "outputs": [],
   "source": [
    "# !pip install pycodestyle\n",
    "# %pycodestyle etl.py"
   ]
  }
 ],
 "metadata": {
  "kernelspec": {
   "display_name": "Python 3",
   "language": "python",
   "name": "python3"
  },
  "language_info": {
   "codemirror_mode": {
    "name": "ipython",
    "version": 3
   },
   "file_extension": ".py",
   "mimetype": "text/x-python",
   "name": "python",
   "nbconvert_exporter": "python",
   "pygments_lexer": "ipython3",
   "version": "3.6.3"
  }
 },
 "nbformat": 4,
 "nbformat_minor": 4
}
