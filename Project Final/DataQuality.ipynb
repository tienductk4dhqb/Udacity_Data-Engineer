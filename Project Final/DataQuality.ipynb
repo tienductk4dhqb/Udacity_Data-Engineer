{
 "cells": [
  {
   "cell_type": "markdown",
   "metadata": {
    "editable": true
   },
   "source": [
    "# Check Data has store in S3 and count data"
   ]
  },
  {
   "cell_type": "code",
   "execution_count": 19,
   "metadata": {
    "editable": true
   },
   "outputs": [],
   "source": [
    "import configparser\n",
    "import os\n",
    "from pyspark.sql import SparkSession\n",
    "from pyspark.sql.functions import *"
   ]
  },
  {
   "cell_type": "code",
   "execution_count": 20,
   "metadata": {
    "editable": true
   },
   "outputs": [],
   "source": [
    "config = configparser.ConfigParser()\n",
    "config.read_file(open('aws.cfg'))\n",
    "\n",
    "os.environ[\"AWS_ACCESS_KEY_ID\"] = config['AWS']['AWS_ACCESS_KEY_ID']\n",
    "os.environ[\"AWS_SECRET_ACCESS_KEY\"] = config['AWS']['AWS_SECRET_ACCESS_KEY']\n",
    "output_data = config['AWS']['OUTPUT_DATA']"
   ]
  },
  {
   "cell_type": "code",
   "execution_count": 21,
   "metadata": {
    "editable": true
   },
   "outputs": [],
   "source": [
    "spark = SparkSession.builder\\\n",
    "        .config(\"spark.jars.packages\", \"org.apache.hadoop:hadoop-aws:2.7.0\")\\\n",
    "        .config(\"spark.debug.maxToStringFields\", \"1000\")\\\n",
    "        .enableHiveSupport()\\\n",
    "        .getOrCreate()"
   ]
  },
  {
   "cell_type": "markdown",
   "metadata": {
    "editable": true
   },
   "source": [
    "### Check data has store?"
   ]
  },
  {
   "cell_type": "code",
   "execution_count": 22,
   "metadata": {
    "editable": true
   },
   "outputs": [],
   "source": [
    "# Dict contains name folder and path data\n",
    "directorys = {\n",
    "    \"Immigration\": [\"/Fact/immigration.parquet\",\n",
    "                    \"/Dimension/airline.parquet\",\n",
    "                    \"/Dimension/personal.parquet\"                   \n",
    "                   ],\n",
    "    \"Temperature\": [\"/temperature.parquet\"],\n",
    "    \"Demographic\": [\"/Fact/demographic.parquet\",\n",
    "                   \"/Dimension/city_statistic.parquet\",\n",
    "                   \"/Dimension/population.parquet\"\n",
    "                   ],\n",
    "    \"Airport\": [\"/airport.parquet\"],\n",
    "    \"Label Description\": [\"/airport.parquet\",\n",
    "                          \"/country.parquet\",\n",
    "                          \"/mode.parquet\",\n",
    "                          \"/stage.parquet\"\n",
    "                         ]\n",
    "    \n",
    "}\n",
    "\n",
    "# s3a://capstone-s3/Immigration/Fact/immigration.parquet/\n",
    "# df = spark.read.parquet(\"s3a://capstone-s3/Immigration/Fact/immigration.parquet/\")"
   ]
  },
  {
   "cell_type": "code",
   "execution_count": 5,
   "metadata": {
    "editable": true
   },
   "outputs": [
    {
     "name": "stdout",
     "output_type": "stream",
     "text": [
      "IMMIGRATION\n",
      " Fact immigration\n",
      "root\n",
      " |-- cic_id: double (nullable = true)\n",
      " |-- year: double (nullable = true)\n",
      " |-- month: double (nullable = true)\n",
      " |-- cit: double (nullable = true)\n",
      " |-- res: double (nullable = true)\n",
      " |-- port: string (nullable = true)\n",
      " |-- arr_date: double (nullable = true)\n",
      " |-- mode: double (nullable = true)\n",
      " |-- address: string (nullable = true)\n",
      " |-- dep_date: double (nullable = true)\n",
      " |-- birth_day: double (nullable = true)\n",
      " |-- visa: double (nullable = true)\n",
      " |-- total: double (nullable = true)\n",
      " |-- entdepd: string (nullable = true)\n",
      " |-- matflag: string (nullable = true)\n",
      " |-- birth_year: double (nullable = true)\n",
      " |-- dtaddto: string (nullable = true)\n",
      " |-- gender: string (nullable = true)\n",
      " |-- airline: string (nullable = true)\n",
      " |-- admnum: double (nullable = true)\n",
      " |-- fltno: string (nullable = true)\n",
      " |-- visatype: string (nullable = true)\n",
      "\n",
      " Dimension airline\n",
      "root\n",
      " |-- cic_id: double (nullable = true)\n",
      " |-- port: string (nullable = true)\n",
      " |-- airline: string (nullable = true)\n",
      " |-- visa: double (nullable = true)\n",
      " |-- visatype: string (nullable = true)\n",
      " |-- dep_date: double (nullable = true)\n",
      "\n",
      " Dimension personal\n",
      "root\n",
      " |-- cic_id: double (nullable = true)\n",
      " |-- year: double (nullable = true)\n",
      " |-- month: double (nullable = true)\n",
      " |-- address: string (nullable = true)\n",
      " |-- birth_day: double (nullable = true)\n",
      " |-- birth_year: double (nullable = true)\n",
      " |-- gender: string (nullable = true)\n",
      "\n",
      "TEMPERATURE\n",
      " temperature\n",
      "root\n",
      " |-- dt: string (nullable = true)\n",
      " |-- avg_temperature: string (nullable = true)\n",
      " |-- avg_uncertainty: string (nullable = true)\n",
      " |-- city: string (nullable = true)\n",
      " |-- country: string (nullable = true)\n",
      " |-- latitude: string (nullable = true)\n",
      " |-- longitude: string (nullable = true)\n",
      " |-- id: long (nullable = true)\n",
      "\n",
      "DEMOGRAPHIC\n",
      " Fact demographic\n",
      "root\n",
      " |-- id: long (nullable = true)\n",
      " |-- city: string (nullable = true)\n",
      " |-- state: string (nullable = true)\n",
      " |-- median_age: string (nullable = true)\n",
      " |-- male_population: string (nullable = true)\n",
      " |-- female_population: string (nullable = true)\n",
      " |-- total_population: string (nullable = true)\n",
      " |-- number_of_veterans: string (nullable = true)\n",
      " |-- foreign_born: string (nullable = true)\n",
      " |-- avg_house_hold_size: string (nullable = true)\n",
      " |-- stage_code: string (nullable = true)\n",
      " |-- race: string (nullable = true)\n",
      " |-- total: string (nullable = true)\n",
      "\n",
      " Dimension city_statistic\n",
      "root\n",
      " |-- id: long (nullable = true)\n",
      " |-- city: string (nullable = true)\n",
      " |-- state: string (nullable = true)\n",
      " |-- stage_code: string (nullable = true)\n",
      " |-- total_population: string (nullable = true)\n",
      " |-- avg_house_hold_size: string (nullable = true)\n",
      "\n",
      " Dimension population\n",
      "root\n",
      " |-- id: long (nullable = true)\n",
      " |-- city: string (nullable = true)\n",
      " |-- state: string (nullable = true)\n",
      " |-- male_population: string (nullable = true)\n",
      " |-- female_population: string (nullable = true)\n",
      " |-- number_of_veterans: string (nullable = true)\n",
      " |-- foreign_born: string (nullable = true)\n",
      " |-- race: string (nullable = true)\n",
      "\n",
      "AIRPORT\n",
      " airport\n",
      "root\n",
      " |-- ident: string (nullable = true)\n",
      " |-- type: string (nullable = true)\n",
      " |-- name: string (nullable = true)\n",
      " |-- elevation_ft: string (nullable = true)\n",
      " |-- continent: string (nullable = true)\n",
      " |-- iso_country: string (nullable = true)\n",
      " |-- iso_region: string (nullable = true)\n",
      " |-- municipality: string (nullable = true)\n",
      " |-- gps_code: string (nullable = true)\n",
      " |-- iata_code: string (nullable = true)\n",
      " |-- local_code: string (nullable = true)\n",
      " |-- coordinates: string (nullable = true)\n",
      " |-- id: long (nullable = true)\n",
      "\n",
      "LABEL DESCRIPTION\n",
      " airport\n",
      "root\n",
      " |-- code: string (nullable = true)\n",
      " |-- airport: string (nullable = true)\n",
      "\n",
      " country\n",
      "root\n",
      " |-- code: string (nullable = true)\n",
      " |-- country: string (nullable = true)\n",
      "\n",
      " mode\n",
      "root\n",
      " |-- code: string (nullable = true)\n",
      " |-- mode: string (nullable = true)\n",
      "\n",
      " stage\n",
      "root\n",
      " |-- code: string (nullable = true)\n",
      " |-- stage: string (nullable = true)\n",
      "\n"
     ]
    }
   ],
   "source": [
    "for name, directory in directorys.items():\n",
    "    print(name.upper())\n",
    "    for path in directory:\n",
    "        print(path.replace(\"/\", \" \").replace(\".parquet\", \"\"))\n",
    "        df = spark.read.parquet(output_data+\"/\"+name+path)\n",
    "        df.printSchema()"
   ]
  },
  {
   "cell_type": "markdown",
   "metadata": {
    "editable": true
   },
   "source": [
    "### Count total data"
   ]
  },
  {
   "cell_type": "code",
   "execution_count": 25,
   "metadata": {
    "editable": true
   },
   "outputs": [
    {
     "name": "stdout",
     "output_type": "stream",
     "text": [
      "IMMIGRATION\n",
      " Fact immigration total count: 3096313\n",
      " Dimension airline total count: 3096313\n",
      " Dimension personal total count: 3096313\n",
      "TEMPERATURE\n",
      " temperature total count: 8599212\n",
      "DEMOGRAPHIC\n",
      " Fact demographic total count: 2891\n",
      " Dimension city_statistic total count: 2891\n",
      " Dimension population total count: 2891\n",
      "AIRPORT\n",
      " airport total count: 55075\n",
      "LABEL DESCRIPTION\n",
      " airport total count: 592\n",
      " country total count: 264\n",
      " mode total count: 3\n",
      " stage total count: 54\n"
     ]
    }
   ],
   "source": [
    "for name, directory in directorys.items():\n",
    "    print(name.upper())\n",
    "    for path in directory:\n",
    "        df = spark.read.parquet(output_data+\"/\"+name+path)\n",
    "        print(path.replace(\"/\", \" \").replace(\".parquet\", \"\")\n",
    "             +f\" total count: {df.count()}\")"
   ]
  },
  {
   "cell_type": "code",
   "execution_count": null,
   "metadata": {
    "editable": true
   },
   "outputs": [],
   "source": []
  }
 ],
 "metadata": {
  "kernelspec": {
   "display_name": "Python 3",
   "language": "python",
   "name": "python3"
  },
  "language_info": {
   "codemirror_mode": {
    "name": "ipython",
    "version": 3
   },
   "file_extension": ".py",
   "mimetype": "text/x-python",
   "name": "python",
   "nbconvert_exporter": "python",
   "pygments_lexer": "ipython3",
   "version": "3.6.3"
  }
 },
 "nbformat": 4,
 "nbformat_minor": 4
}
